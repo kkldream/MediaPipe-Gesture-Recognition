{
 "cells": [
  {
   "cell_type": "code",
   "execution_count": 1,
   "metadata": {
    "collapsed": true
   },
   "outputs": [],
   "source": [
    "import cv2\n",
    "import mediapipe as mp\n",
    "import pandas as pd\n",
    "import os\n",
    "import numpy as np\n",
    "import tensorflow as tf\n",
    "from tensorflow import keras\n",
    "from tensorflow.keras import layers\n",
    "from tensorflow.keras.utils import plot_model\n",
    "from IPython.display import Image\n",
    "import matplotlib.pyplot as plt\n",
    "import json\n",
    "import random\n",
    "import time\n",
    "import pandas as pd\n",
    "%matplotlib inline"
   ]
  },
  {
   "cell_type": "code",
   "execution_count": 112,
   "outputs": [],
   "source": [
    "def read_data(_path):\n",
    "    _data = pd.read_csv(_path)\n",
    "    _data.drop(['Unnamed: 0'], axis=\"columns\", inplace=True)\n",
    "    return _data"
   ],
   "metadata": {
    "collapsed": false,
    "pycharm": {
     "name": "#%%\n"
    }
   }
  },
  {
   "cell_type": "code",
   "execution_count": 113,
   "outputs": [
    {
     "name": "stdout",
     "output_type": "stream",
     "text": [
      "y_train_data = (1500, 3)\n",
      "0. paper: 500\n",
      "1. scissors: 500\n",
      "2. Stone: 500\n"
     ]
    }
   ],
   "source": [
    "markers_path = os.path.join('dataset', 'markers')\n",
    "labels = os.listdir(markers_path)\n",
    "y_train_data = []\n",
    "for i, label in enumerate(labels):\n",
    "    csv_list = os.listdir(os.path.join(markers_path, label))\n",
    "    for csv in csv_list:\n",
    "        y_train_data.append(i)\n",
    "y_train_data = np.array(tf.one_hot(np.array(y_train_data), len(labels)))\n",
    "print(f'y_train_data = {y_train_data.shape}')\n",
    "y_train_data_num = np.sum(y_train_data, 0)\n",
    "for i, n in enumerate(y_train_data_num):\n",
    "    print(f'{i}. {labels[i]}: {int(n)}')"
   ],
   "metadata": {
    "collapsed": false,
    "pycharm": {
     "name": "#%%\n"
    }
   }
  },
  {
   "cell_type": "code",
   "execution_count": 20,
   "outputs": [
    {
     "data": {
      "text/plain": "          x         y             z\n0  0.403830  0.852787  3.602019e-07\n1  0.403002  0.791748 -8.087947e-03\n2  0.417622  0.727613 -2.661067e-02\n3  0.444915  0.693341 -4.581104e-02\n4  0.459773  0.681325 -6.267484e-02",
      "text/html": "<div>\n<style scoped>\n    .dataframe tbody tr th:only-of-type {\n        vertical-align: middle;\n    }\n\n    .dataframe tbody tr th {\n        vertical-align: top;\n    }\n\n    .dataframe thead th {\n        text-align: right;\n    }\n</style>\n<table border=\"1\" class=\"dataframe\">\n  <thead>\n    <tr style=\"text-align: right;\">\n      <th></th>\n      <th>x</th>\n      <th>y</th>\n      <th>z</th>\n    </tr>\n  </thead>\n  <tbody>\n    <tr>\n      <th>0</th>\n      <td>0.403830</td>\n      <td>0.852787</td>\n      <td>3.602019e-07</td>\n    </tr>\n    <tr>\n      <th>1</th>\n      <td>0.403002</td>\n      <td>0.791748</td>\n      <td>-8.087947e-03</td>\n    </tr>\n    <tr>\n      <th>2</th>\n      <td>0.417622</td>\n      <td>0.727613</td>\n      <td>-2.661067e-02</td>\n    </tr>\n    <tr>\n      <th>3</th>\n      <td>0.444915</td>\n      <td>0.693341</td>\n      <td>-4.581104e-02</td>\n    </tr>\n    <tr>\n      <th>4</th>\n      <td>0.459773</td>\n      <td>0.681325</td>\n      <td>-6.267484e-02</td>\n    </tr>\n  </tbody>\n</table>\n</div>"
     },
     "execution_count": 20,
     "metadata": {},
     "output_type": "execute_result"
    }
   ],
   "source": [
    "markers_path = os.path.join('dataset', 'markers')\n",
    "ont_data_path = os.path.join(markers_path, 'yeah', '0.csv')\n",
    "data = read_data(ont_data_path)\n",
    "data.head(5)"
   ],
   "metadata": {
    "collapsed": false,
    "pycharm": {
     "name": "#%%\n"
    }
   }
  },
  {
   "cell_type": "code",
   "execution_count": 114,
   "outputs": [
    {
     "name": "stdout",
     "output_type": "stream",
     "text": [
      "labels:\n",
      "0. paper\n",
      "1. scissors\n",
      "2. Stone\n"
     ]
    }
   ],
   "source": [
    "labels = os.listdir(markers_path)\n",
    "print('labels:')\n",
    "for i, label in enumerate(labels):\n",
    "    print(f'{i}. {label}')"
   ],
   "metadata": {
    "collapsed": false,
    "pycharm": {
     "name": "#%%\n"
    }
   }
  },
  {
   "cell_type": "code",
   "execution_count": 127,
   "outputs": [
    {
     "name": "stdout",
     "output_type": "stream",
     "text": [
      "x_train_data = (1500, 21, 3)\n",
      "y_train_data = (1500, 3)\n"
     ]
    }
   ],
   "source": [
    "y_train_data = []\n",
    "x_train_data = []\n",
    "for i, label in enumerate(labels):\n",
    "    csv_list = os.listdir(os.path.join(markers_path, label))\n",
    "    for csv in csv_list:\n",
    "        csv_path = os.path.join(markers_path, label, csv)\n",
    "        data = read_data(csv_path)\n",
    "        x_train_data.append(data.copy())\n",
    "        y_train_data.append(i)\n",
    "        # data.x = 0.5 - (data.x - 0.5)\n",
    "        # data.y = 0.5 - (data.y - 0.5)\n",
    "        # x_train_data.append(data)\n",
    "        # y_train_data.append(i)\n",
    "x_train_data = np.array(x_train_data)\n",
    "y_train_data = np.array(tf.one_hot(np.array(y_train_data), len(labels)))\n",
    "print(f'x_train_data = {x_train_data.shape}')\n",
    "print(f'y_train_data = {y_train_data.shape}')"
   ],
   "metadata": {
    "collapsed": false,
    "pycharm": {
     "name": "#%%\n"
    }
   }
  },
  {
   "cell_type": "code",
   "execution_count": 128,
   "outputs": [
    {
     "name": "stdout",
     "output_type": "stream",
     "text": [
      "0. paper: 500\n",
      "1. scissors: 500\n",
      "2. Stone: 500\n"
     ]
    }
   ],
   "source": [
    "y_train_data_num = np.sum(y_train_data, 0)\n",
    "for i, n in enumerate(y_train_data_num):\n",
    "    print(f'{i}. {labels[i]}: {int(n)}')"
   ],
   "metadata": {
    "collapsed": false,
    "pycharm": {
     "name": "#%%\n"
    }
   }
  },
  {
   "cell_type": "code",
   "execution_count": 129,
   "outputs": [
    {
     "name": "stdout",
     "output_type": "stream",
     "text": [
      "before normalization:\n",
      "data.x =  0.10 ~ 0.87\n",
      "data.y =  0.21 ~ 1.04\n",
      "data.z = -0.18 ~ 0.04\n"
     ]
    }
   ],
   "source": [
    "print('before normalization:')\n",
    "data_limits = np.min(np.min(x_train_data, 0), 0), np.max(np.max(x_train_data, 0), 0)\n",
    "print(f'data.x = {data_limits[0][0]:5.2f} ~ {data_limits[1][0]:4.2f}')\n",
    "print(f'data.y = {data_limits[0][1]:5.2f} ~ {data_limits[1][1]:4.2f}')\n",
    "print(f'data.z = {data_limits[0][2]:5.2f} ~ {data_limits[1][2]:4.2f}')"
   ],
   "metadata": {
    "collapsed": false,
    "pycharm": {
     "name": "#%%\n"
    }
   }
  },
  {
   "cell_type": "code",
   "execution_count": 130,
   "outputs": [
    {
     "name": "stdout",
     "output_type": "stream",
     "text": [
      "after normalization:\n",
      "data.x =  0.10 ~ 0.87\n",
      "data.y =  0.21 ~ 1.04\n",
      "data.z =  0.07 ~ 0.81\n"
     ]
    }
   ],
   "source": [
    "norm_min, norm_max = -0.2, 0.1\n",
    "x_train_data[:, :, 2] = (x_train_data[:, :, 2] - norm_min) / (norm_max - norm_min)\n",
    "print('after normalization:')\n",
    "data_limits = np.min(np.min(x_train_data, 0), 0), np.max(np.max(x_train_data, 0), 0)\n",
    "print(f'data.x = {data_limits[0][0]:5.2f} ~ {data_limits[1][0]:4.2f}')\n",
    "print(f'data.y = {data_limits[0][1]:5.2f} ~ {data_limits[1][1]:4.2f}')\n",
    "print(f'data.z = {data_limits[0][2]:5.2f} ~ {data_limits[1][2]:4.2f}')"
   ],
   "metadata": {
    "collapsed": false,
    "pycharm": {
     "name": "#%%\n"
    }
   }
  },
  {
   "cell_type": "code",
   "execution_count": 131,
   "outputs": [
    {
     "name": "stdout",
     "output_type": "stream",
     "text": [
      "randomList = [ 471    9 1499 ... 1216  559  684]\n"
     ]
    }
   ],
   "source": [
    "random_seed = 0\n",
    "np.random.seed(random_seed)\n",
    "randomList = np.arange(x_train_data.shape[0])\n",
    "np.random.shuffle(randomList)\n",
    "x_train_data, y_train_data = x_train_data[randomList], y_train_data[randomList]\n",
    "print(f'randomList = {randomList}')"
   ],
   "metadata": {
    "collapsed": false,
    "pycharm": {
     "name": "#%%\n"
    }
   }
  },
  {
   "cell_type": "code",
   "execution_count": 132,
   "outputs": [
    {
     "name": "stdout",
     "output_type": "stream",
     "text": [
      "x_train = (1200, 21, 3), y_train = (1200, 3)\n",
      "x_val = (300, 21, 3), y_val = (300, 3)\n"
     ]
    }
   ],
   "source": [
    "train_num = int(x_train_data.shape[0] * 0.8)\n",
    "val_num = int(x_train_data.shape[0] * 0.2)\n",
    "# test_num = int(x_train_data.shape[0] * 0.0)\n",
    "x_train = np.array(x_train_data[:train_num])\n",
    "y_train = np.array(y_train_data[:train_num])\n",
    "x_val = np.array(x_train_data[train_num:train_num+val_num])\n",
    "y_val = np.array(y_train_data[train_num:train_num+val_num])\n",
    "# x_test = np.array(x_train_data[-test_num:])\n",
    "# y_test = np.array(y_train_data[-test_num:])\n",
    "print(f'x_train = {x_train.shape}, y_train = {y_train.shape}')\n",
    "print(f'x_val = {x_val.shape}, y_val = {y_val.shape}')\n",
    "# print(f'x_test = {x_test.shape}, y_test = {y_test.shape}')"
   ],
   "metadata": {
    "collapsed": false,
    "pycharm": {
     "name": "#%%\n"
    }
   }
  },
  {
   "cell_type": "code",
   "execution_count": 207,
   "outputs": [
    {
     "name": "stdout",
     "output_type": "stream",
     "text": [
      "x_train = (1200, 21, 3, 1), y_train = (1200, 3)\n",
      "x_val = (300, 21, 3, 1), y_val = (300, 3)\n"
     ]
    }
   ],
   "source": [
    "x_train = x_train[:, :, :, np.newaxis]\n",
    "x_val = x_val[:, :, :, np.newaxis]\n",
    "print(f'x_train = {x_train.shape}, y_train = {y_train.shape}')\n",
    "print(f'x_val = {x_val.shape}, y_val = {y_val.shape}')"
   ],
   "metadata": {
    "collapsed": false,
    "pycharm": {
     "name": "#%%\n"
    }
   }
  },
  {
   "cell_type": "code",
   "execution_count": 219,
   "outputs": [
    {
     "name": "stdout",
     "output_type": "stream",
     "text": [
      "layers_num = 6, params_num = 24931\n",
      "\n",
      "Model: \"Conv2D_Double\"\n",
      "_________________________________________________________________\n",
      "Layer (type)                 Output Shape              Param #   \n",
      "=================================================================\n",
      "input (Conv2D)               (None, 20, 2, 32)         160       \n",
      "_________________________________________________________________\n",
      "hidden_1 (Conv2D)            (None, 19, 1, 32)         4128      \n",
      "_________________________________________________________________\n",
      "flatten_69 (Flatten)         (None, 608)               0         \n",
      "_________________________________________________________________\n",
      "hidden_2 (Dense)             (None, 32)                19488     \n",
      "_________________________________________________________________\n",
      "hidden_3 (Dense)             (None, 32)                1056      \n",
      "_________________________________________________________________\n",
      "output (Dense)               (None, 3)                 99        \n",
      "=================================================================\n",
      "Total params: 24,931\n",
      "Trainable params: 24,931\n",
      "Non-trainable params: 0\n",
      "_________________________________________________________________\n"
     ]
    },
    {
     "data": {
      "image/png": "[encoded data removed]",
      "text/plain": "<IPython.core.display.Image object>"
     },
     "execution_count": 219,
     "metadata": {},
     "output_type": "execute_result"
    }
   ],
   "source": [
    "# model = keras.Sequential([\n",
    "#     layers.Conv1D(64, kernel_size=2, strides=1, padding='valid', activation='relu', input_shape=(21, 3,), name='input'),\n",
    "#     # layers.MaxPooling1D(pool_size=2, padding='valid'),\n",
    "#     layers.Conv1D(32, kernel_size=2, strides=1, padding='valid', activation='relu', name='hidden_1'),\n",
    "#     layers.MaxPooling1D(pool_size=2, padding='valid', name='hidden_2'),\n",
    "#     # layers.BatchNormalization(),\n",
    "#     layers.Flatten(name='hidden_3'),\n",
    "#     layers.Dense(32, activation='relu', name='hidden_4'),\n",
    "#     # layers.Dropout(0.2),\n",
    "#     # layers.Dense(32, activation='relu', name='hidden_5'),\n",
    "#     # layers.Dropout(0.2),\n",
    "#     layers.Dense(len(labels), activation='softmax', name='output')\n",
    "# ], name='Conv1D_Double')\n",
    "model = keras.Sequential([\n",
    "    layers.Conv2D(32, kernel_size=2, strides=1, padding='valid', activation='relu', input_shape=(21, 3, 1,), name='input'),\n",
    "    layers.Conv2D(32, kernel_size=2, strides=1, padding='valid', activation='relu', name='hidden_1'),\n",
    "    layers.Flatten(),\n",
    "    layers.Dense(32, activation='relu', name='hidden_2'),\n",
    "    layers.Dense(32, activation='relu', name='hidden_3'),\n",
    "    layers.Dense(len(labels), activation='softmax', name='output')\n",
    "], name='Conv2D_Double')\n",
    "# model = keras.Sequential([\n",
    "#     layers.Flatten(input_shape=(21, 3,), name='input'),\n",
    "#     layers.Dense(64, activation='relu', name='hidden_1'),\n",
    "#     layers.Dense(64, activation='relu', name='hidden_2'),\n",
    "#     layers.Dense(32, activation='relu', name='hidden_3'),\n",
    "#     layers.Dense(32, activation='relu', name='hidden_4'),\n",
    "#     layers.Dense(len(labels), activation='softmax', name='output')\n",
    "# ], name='Flatten_Dense')\n",
    "params_num = model.count_params()\n",
    "layers_num = len(model.layers)\n",
    "print(f'layers_num = {layers_num}, params_num = {params_num}\\n')\n",
    "model.summary()\n",
    "plot_model(model, show_shapes=True)"
   ],
   "metadata": {
    "collapsed": false,
    "pycharm": {
     "name": "#%%\n"
    }
   }
  },
  {
   "cell_type": "code",
   "execution_count": 214,
   "outputs": [
    {
     "name": "stdout",
     "output_type": "stream",
     "text": [
      "new_output_models\\2022_05_01-20_42_56-Conv2D_Double-params_24931-batch_512-optimizer_adam-loss_mse\n"
     ]
    }
   ],
   "source": [
    "''' trainParam '''\n",
    "save_models = 'new_output_models'\n",
    "model_tag = model.name\n",
    "optimizer = \"adam\"\n",
    "loss = \"mse\"\n",
    "batch_size = 512\n",
    "epochs = 10000\n",
    "time_tag = time.strftime(\"%Y_%m_%d-%H_%M_%S\", time.localtime())\n",
    "model_dir = f'{time_tag}-{model_tag}-params_{params_num}-batch_{batch_size}-optimizer_{optimizer}-loss_{loss}'\n",
    "print(os.path.join(save_models, model_dir))\n",
    "callbacks = list()\n",
    "model.compile(optimizer=optimizer, loss=loss, metrics=['mae', 'acc'])\n",
    "''' EarlyStopping '''\n",
    "callbacks.append(\n",
    "    keras.callbacks.EarlyStopping(monitor=\"val_loss\", patience=50, verbose=1, mode=\"auto\")\n",
    ")\n",
    "''' ModelCheckpoint '''\n",
    "model_name = 'epoch_{epoch:03d}-val_loss_{val_loss:.3f}.hdf5'\n",
    "all_filepath = os.path.join(save_models, model_dir, 'all_models', model_name)\n",
    "callbacks.append(\n",
    "    keras.callbacks.ModelCheckpoint(all_filepath, monitor='val_loss', verbose=0, save_best_only=False, save_weights_only=False, mode='auto', save_freq='epoch')\n",
    ")\n",
    "best_filepath = os.path.join(save_models, model_dir, 'model.hdf5')\n",
    "callbacks.append(\n",
    "    keras.callbacks.ModelCheckpoint(best_filepath, monitor='val_loss', verbose=0, save_best_only=True, save_weights_only=False, mode='auto', save_freq='epoch')\n",
    ")\n",
    "''' TensorBoard '''\n",
    "log_dir = os.path.join(save_models, 'logs', model_dir)\n",
    "callbacks.append(\n",
    "    keras.callbacks.TensorBoard(log_dir=log_dir)\n",
    ")"
   ],
   "metadata": {
    "collapsed": false,
    "pycharm": {
     "name": "#%%\n"
    }
   }
  },
  {
   "cell_type": "code",
   "execution_count": 215,
   "outputs": [
    {
     "name": "stdout",
     "output_type": "stream",
     "text": [
      "Epoch 1/10000\n",
      "3/3 [==============================] - 1s 195ms/step - loss: 0.2226 - mae: 0.4445 - acc: 0.3158 - val_loss: 0.2207 - val_mae: 0.4428 - val_acc: 0.4133\n",
      "Epoch 2/10000\n",
      "3/3 [==============================] - 0s 36ms/step - loss: 0.2208 - mae: 0.4430 - acc: 0.3900 - val_loss: 0.2201 - val_mae: 0.4421 - val_acc: 0.3267\n",
      "Epoch 3/10000\n",
      "3/3 [==============================] - 0s 70ms/step - loss: 0.2199 - mae: 0.4419 - acc: 0.3383 - val_loss: 0.2189 - val_mae: 0.4409 - val_acc: 0.3600\n",
      "Epoch 4/10000\n",
      "3/3 [==============================] - 0s 55ms/step - loss: 0.2185 - mae: 0.4406 - acc: 0.4367 - val_loss: 0.2170 - val_mae: 0.4390 - val_acc: 0.4667\n",
      "Epoch 5/10000\n",
      "3/3 [==============================] - 0s 55ms/step - loss: 0.2170 - mae: 0.4388 - acc: 0.4450 - val_loss: 0.2154 - val_mae: 0.4371 - val_acc: 0.5300\n",
      "Epoch 6/10000\n",
      "3/3 [==============================] - 0s 69ms/step - loss: 0.2153 - mae: 0.4371 - acc: 0.5367 - val_loss: 0.2138 - val_mae: 0.4356 - val_acc: 0.6433\n",
      "Epoch 7/10000\n",
      "3/3 [==============================] - 0s 24ms/step - loss: 0.2133 - mae: 0.4350 - acc: 0.6167 - val_loss: 0.2114 - val_mae: 0.4330 - val_acc: 0.5967\n",
      "Epoch 8/10000\n",
      "3/3 [==============================] - 0s 28ms/step - loss: 0.2111 - mae: 0.4327 - acc: 0.6033 - val_loss: 0.2092 - val_mae: 0.4305 - val_acc: 0.6300\n",
      "Epoch 9/10000\n",
      "3/3 [==============================] - 0s 23ms/step - loss: 0.2086 - mae: 0.4297 - acc: 0.6100 - val_loss: 0.2065 - val_mae: 0.4270 - val_acc: 0.6333\n",
      "Epoch 10/10000\n",
      "3/3 [==============================] - 0s 22ms/step - loss: 0.2058 - mae: 0.4264 - acc: 0.6575 - val_loss: 0.2036 - val_mae: 0.4240 - val_acc: 0.6800\n",
      "Epoch 11/10000\n",
      "3/3 [==============================] - 0s 21ms/step - loss: 0.2022 - mae: 0.4223 - acc: 0.6667 - val_loss: 0.1997 - val_mae: 0.4192 - val_acc: 0.6933\n",
      "Epoch 12/10000\n",
      "3/3 [==============================] - 0s 21ms/step - loss: 0.1981 - mae: 0.4175 - acc: 0.6925 - val_loss: 0.1958 - val_mae: 0.4155 - val_acc: 0.7467\n",
      "Epoch 13/10000\n",
      "3/3 [==============================] - 0s 20ms/step - loss: 0.1937 - mae: 0.4131 - acc: 0.7492 - val_loss: 0.1902 - val_mae: 0.4080 - val_acc: 0.7167\n",
      "Epoch 14/10000\n",
      "3/3 [==============================] - 0s 23ms/step - loss: 0.1875 - mae: 0.4053 - acc: 0.7542 - val_loss: 0.1847 - val_mae: 0.4014 - val_acc: 0.7400\n",
      "Epoch 15/10000\n",
      "3/3 [==============================] - 0s 21ms/step - loss: 0.1813 - mae: 0.3975 - acc: 0.7442 - val_loss: 0.1779 - val_mae: 0.3920 - val_acc: 0.7267\n",
      "Epoch 16/10000\n",
      "3/3 [==============================] - 0s 20ms/step - loss: 0.1737 - mae: 0.3879 - acc: 0.7592 - val_loss: 0.1713 - val_mae: 0.3818 - val_acc: 0.7367\n",
      "Epoch 17/10000\n",
      "3/3 [==============================] - 0s 24ms/step - loss: 0.1668 - mae: 0.3771 - acc: 0.7525 - val_loss: 0.1635 - val_mae: 0.3743 - val_acc: 0.7867\n",
      "Epoch 18/10000\n",
      "3/3 [==============================] - 0s 23ms/step - loss: 0.1576 - mae: 0.3667 - acc: 0.7875 - val_loss: 0.1590 - val_mae: 0.3613 - val_acc: 0.6800\n",
      "Epoch 19/10000\n",
      "3/3 [==============================] - 0s 25ms/step - loss: 0.1516 - mae: 0.3540 - acc: 0.7358 - val_loss: 0.1518 - val_mae: 0.3554 - val_acc: 0.7700\n",
      "Epoch 20/10000\n",
      "3/3 [==============================] - 0s 17ms/step - loss: 0.1438 - mae: 0.3452 - acc: 0.8117 - val_loss: 0.1422 - val_mae: 0.3393 - val_acc: 0.7833\n",
      "Epoch 21/10000\n",
      "3/3 [==============================] - 0s 19ms/step - loss: 0.1359 - mae: 0.3319 - acc: 0.8017 - val_loss: 0.1337 - val_mae: 0.3280 - val_acc: 0.8067\n",
      "Epoch 22/10000\n",
      "3/3 [==============================] - 0s 21ms/step - loss: 0.1284 - mae: 0.3197 - acc: 0.8192 - val_loss: 0.1262 - val_mae: 0.3177 - val_acc: 0.8567\n",
      "Epoch 23/10000\n",
      "3/3 [==============================] - 0s 20ms/step - loss: 0.1212 - mae: 0.3100 - acc: 0.8767 - val_loss: 0.1198 - val_mae: 0.3059 - val_acc: 0.8533\n",
      "Epoch 24/10000\n",
      "3/3 [==============================] - 0s 19ms/step - loss: 0.1136 - mae: 0.2972 - acc: 0.8708 - val_loss: 0.1137 - val_mae: 0.2949 - val_acc: 0.8633\n",
      "Epoch 25/10000\n",
      "3/3 [==============================] - 0s 25ms/step - loss: 0.1069 - mae: 0.2846 - acc: 0.8908 - val_loss: 0.1084 - val_mae: 0.2833 - val_acc: 0.8533\n",
      "Epoch 26/10000\n",
      "3/3 [==============================] - 0s 29ms/step - loss: 0.1001 - mae: 0.2728 - acc: 0.8917 - val_loss: 0.1043 - val_mae: 0.2767 - val_acc: 0.8800\n",
      "Epoch 27/10000\n",
      "3/3 [==============================] - 0s 59ms/step - loss: 0.0960 - mae: 0.2646 - acc: 0.9033 - val_loss: 0.0978 - val_mae: 0.2621 - val_acc: 0.8833\n",
      "Epoch 28/10000\n",
      "3/3 [==============================] - 0s 23ms/step - loss: 0.0889 - mae: 0.2504 - acc: 0.9125 - val_loss: 0.0887 - val_mae: 0.2497 - val_acc: 0.9033\n",
      "Epoch 29/10000\n",
      "3/3 [==============================] - 0s 30ms/step - loss: 0.0830 - mae: 0.2407 - acc: 0.9292 - val_loss: 0.0822 - val_mae: 0.2374 - val_acc: 0.9167\n",
      "Epoch 30/10000\n",
      "3/3 [==============================] - 0s 24ms/step - loss: 0.0797 - mae: 0.2327 - acc: 0.9292 - val_loss: 0.0812 - val_mae: 0.2290 - val_acc: 0.9067\n",
      "Epoch 31/10000\n",
      "3/3 [==============================] - 0s 23ms/step - loss: 0.0731 - mae: 0.2164 - acc: 0.9275 - val_loss: 0.0753 - val_mae: 0.2202 - val_acc: 0.9100\n",
      "Epoch 32/10000\n",
      "3/3 [==============================] - 0s 22ms/step - loss: 0.0680 - mae: 0.2096 - acc: 0.9408 - val_loss: 0.0725 - val_mae: 0.2138 - val_acc: 0.9333\n",
      "Epoch 33/10000\n",
      "3/3 [==============================] - 0s 21ms/step - loss: 0.0639 - mae: 0.2009 - acc: 0.9525 - val_loss: 0.0674 - val_mae: 0.2023 - val_acc: 0.9167\n",
      "Epoch 34/10000\n",
      "3/3 [==============================] - 0s 26ms/step - loss: 0.0596 - mae: 0.1907 - acc: 0.9458 - val_loss: 0.0625 - val_mae: 0.1948 - val_acc: 0.9367\n",
      "Epoch 35/10000\n",
      "3/3 [==============================] - 0s 19ms/step - loss: 0.0548 - mae: 0.1828 - acc: 0.9542 - val_loss: 0.0585 - val_mae: 0.1836 - val_acc: 0.9233\n",
      "Epoch 36/10000\n",
      "3/3 [==============================] - 0s 18ms/step - loss: 0.0514 - mae: 0.1716 - acc: 0.9567 - val_loss: 0.0544 - val_mae: 0.1762 - val_acc: 0.9467\n",
      "Epoch 37/10000\n",
      "3/3 [==============================] - 0s 21ms/step - loss: 0.0475 - mae: 0.1650 - acc: 0.9583 - val_loss: 0.0509 - val_mae: 0.1673 - val_acc: 0.9400\n",
      "Epoch 38/10000\n",
      "3/3 [==============================] - 0s 18ms/step - loss: 0.0442 - mae: 0.1566 - acc: 0.9592 - val_loss: 0.0481 - val_mae: 0.1599 - val_acc: 0.9400\n",
      "Epoch 39/10000\n",
      "3/3 [==============================] - 0s 22ms/step - loss: 0.0419 - mae: 0.1493 - acc: 0.9567 - val_loss: 0.0464 - val_mae: 0.1547 - val_acc: 0.9500\n",
      "Epoch 40/10000\n",
      "3/3 [==============================] - 0s 21ms/step - loss: 0.0397 - mae: 0.1443 - acc: 0.9658 - val_loss: 0.0445 - val_mae: 0.1476 - val_acc: 0.9400\n",
      "Epoch 41/10000\n",
      "3/3 [==============================] - 0s 19ms/step - loss: 0.0374 - mae: 0.1362 - acc: 0.9625 - val_loss: 0.0435 - val_mae: 0.1443 - val_acc: 0.9600\n",
      "Epoch 42/10000\n",
      "3/3 [==============================] - 0s 28ms/step - loss: 0.0351 - mae: 0.1307 - acc: 0.9683 - val_loss: 0.0413 - val_mae: 0.1363 - val_acc: 0.9433\n",
      "Epoch 43/10000\n",
      "3/3 [==============================] - 0s 29ms/step - loss: 0.0338 - mae: 0.1254 - acc: 0.9642 - val_loss: 0.0382 - val_mae: 0.1304 - val_acc: 0.9500\n",
      "Epoch 44/10000\n",
      "3/3 [==============================] - 0s 30ms/step - loss: 0.0315 - mae: 0.1180 - acc: 0.9642 - val_loss: 0.0363 - val_mae: 0.1248 - val_acc: 0.9500\n",
      "Epoch 45/10000\n",
      "3/3 [==============================] - 0s 23ms/step - loss: 0.0296 - mae: 0.1153 - acc: 0.9708 - val_loss: 0.0346 - val_mae: 0.1202 - val_acc: 0.9533\n",
      "Epoch 46/10000\n",
      "3/3 [==============================] - 0s 23ms/step - loss: 0.0279 - mae: 0.1083 - acc: 0.9708 - val_loss: 0.0334 - val_mae: 0.1149 - val_acc: 0.9500\n",
      "Epoch 47/10000\n",
      "3/3 [==============================] - 0s 27ms/step - loss: 0.0267 - mae: 0.1053 - acc: 0.9708 - val_loss: 0.0327 - val_mae: 0.1135 - val_acc: 0.9567\n",
      "Epoch 48/10000\n",
      "3/3 [==============================] - 0s 28ms/step - loss: 0.0263 - mae: 0.1012 - acc: 0.9692 - val_loss: 0.0307 - val_mae: 0.1074 - val_acc: 0.9567\n",
      "Epoch 49/10000\n",
      "3/3 [==============================] - 0s 23ms/step - loss: 0.0244 - mae: 0.0982 - acc: 0.9742 - val_loss: 0.0300 - val_mae: 0.1048 - val_acc: 0.9567\n",
      "Epoch 50/10000\n",
      "3/3 [==============================] - 0s 18ms/step - loss: 0.0232 - mae: 0.0929 - acc: 0.9733 - val_loss: 0.0291 - val_mae: 0.1000 - val_acc: 0.9500\n",
      "Epoch 51/10000\n",
      "3/3 [==============================] - 0s 19ms/step - loss: 0.0229 - mae: 0.0905 - acc: 0.9683 - val_loss: 0.0290 - val_mae: 0.0985 - val_acc: 0.9500\n",
      "Epoch 52/10000\n",
      "3/3 [==============================] - 0s 26ms/step - loss: 0.0218 - mae: 0.0877 - acc: 0.9733 - val_loss: 0.0272 - val_mae: 0.0944 - val_acc: 0.9567\n",
      "Epoch 53/10000\n",
      "3/3 [==============================] - 0s 19ms/step - loss: 0.0214 - mae: 0.0846 - acc: 0.9733 - val_loss: 0.0274 - val_mae: 0.0919 - val_acc: 0.9500\n",
      "Epoch 54/10000\n",
      "3/3 [==============================] - 0s 24ms/step - loss: 0.0208 - mae: 0.0833 - acc: 0.9725 - val_loss: 0.0258 - val_mae: 0.0897 - val_acc: 0.9567\n",
      "Epoch 55/10000\n",
      "3/3 [==============================] - 0s 19ms/step - loss: 0.0194 - mae: 0.0793 - acc: 0.9792 - val_loss: 0.0253 - val_mae: 0.0863 - val_acc: 0.9567\n",
      "Epoch 56/10000\n",
      "3/3 [==============================] - 0s 17ms/step - loss: 0.0193 - mae: 0.0762 - acc: 0.9725 - val_loss: 0.0260 - val_mae: 0.0893 - val_acc: 0.9633\n",
      "Epoch 57/10000\n",
      "3/3 [==============================] - 0s 19ms/step - loss: 0.0190 - mae: 0.0782 - acc: 0.9775 - val_loss: 0.0242 - val_mae: 0.0822 - val_acc: 0.9567\n",
      "Epoch 58/10000\n",
      "3/3 [==============================] - 0s 17ms/step - loss: 0.0178 - mae: 0.0730 - acc: 0.9783 - val_loss: 0.0237 - val_mae: 0.0799 - val_acc: 0.9633\n",
      "Epoch 59/10000\n",
      "3/3 [==============================] - 0s 17ms/step - loss: 0.0178 - mae: 0.0701 - acc: 0.9725 - val_loss: 0.0237 - val_mae: 0.0803 - val_acc: 0.9600\n",
      "Epoch 60/10000\n",
      "3/3 [==============================] - 0s 29ms/step - loss: 0.0179 - mae: 0.0727 - acc: 0.9775 - val_loss: 0.0227 - val_mae: 0.0779 - val_acc: 0.9633\n",
      "Epoch 61/10000\n",
      "3/3 [==============================] - 0s 17ms/step - loss: 0.0169 - mae: 0.0680 - acc: 0.9783 - val_loss: 0.0224 - val_mae: 0.0748 - val_acc: 0.9600\n",
      "Epoch 62/10000\n",
      "3/3 [==============================] - 0s 15ms/step - loss: 0.0158 - mae: 0.0655 - acc: 0.9783 - val_loss: 0.0238 - val_mae: 0.0761 - val_acc: 0.9567\n",
      "Epoch 63/10000\n",
      "3/3 [==============================] - 0s 14ms/step - loss: 0.0161 - mae: 0.0657 - acc: 0.9783 - val_loss: 0.0216 - val_mae: 0.0735 - val_acc: 0.9733\n",
      "Epoch 64/10000\n",
      "3/3 [==============================] - 0s 20ms/step - loss: 0.0160 - mae: 0.0635 - acc: 0.9792 - val_loss: 0.0218 - val_mae: 0.0713 - val_acc: 0.9600\n",
      "Epoch 65/10000\n",
      "3/3 [==============================] - 0s 16ms/step - loss: 0.0160 - mae: 0.0643 - acc: 0.9775 - val_loss: 0.0207 - val_mae: 0.0699 - val_acc: 0.9733\n",
      "Epoch 66/10000\n",
      "3/3 [==============================] - 0s 13ms/step - loss: 0.0151 - mae: 0.0606 - acc: 0.9817 - val_loss: 0.0204 - val_mae: 0.0691 - val_acc: 0.9800\n",
      "Epoch 67/10000\n",
      "3/3 [==============================] - 0s 14ms/step - loss: 0.0142 - mae: 0.0594 - acc: 0.9825 - val_loss: 0.0227 - val_mae: 0.0707 - val_acc: 0.9567\n",
      "Epoch 68/10000\n",
      "3/3 [==============================] - 0s 13ms/step - loss: 0.0145 - mae: 0.0596 - acc: 0.9808 - val_loss: 0.0199 - val_mae: 0.0662 - val_acc: 0.9733\n",
      "Epoch 69/10000\n",
      "3/3 [==============================] - 0s 17ms/step - loss: 0.0140 - mae: 0.0557 - acc: 0.9833 - val_loss: 0.0215 - val_mae: 0.0677 - val_acc: 0.9633\n",
      "Epoch 70/10000\n",
      "3/3 [==============================] - 0s 15ms/step - loss: 0.0146 - mae: 0.0595 - acc: 0.9808 - val_loss: 0.0190 - val_mae: 0.0640 - val_acc: 0.9800\n",
      "Epoch 71/10000\n",
      "3/3 [==============================] - 0s 15ms/step - loss: 0.0156 - mae: 0.0563 - acc: 0.9775 - val_loss: 0.0187 - val_mae: 0.0624 - val_acc: 0.9800\n",
      "Epoch 72/10000\n",
      "3/3 [==============================] - 0s 15ms/step - loss: 0.0144 - mae: 0.0572 - acc: 0.9833 - val_loss: 0.0204 - val_mae: 0.0630 - val_acc: 0.9633\n",
      "Epoch 73/10000\n",
      "3/3 [==============================] - 0s 15ms/step - loss: 0.0128 - mae: 0.0517 - acc: 0.9808 - val_loss: 0.0198 - val_mae: 0.0616 - val_acc: 0.9633\n",
      "Epoch 74/10000\n",
      "3/3 [==============================] - 0s 18ms/step - loss: 0.0149 - mae: 0.0536 - acc: 0.9783 - val_loss: 0.0207 - val_mae: 0.0612 - val_acc: 0.9600\n",
      "Epoch 75/10000\n",
      "3/3 [==============================] - 0s 15ms/step - loss: 0.0138 - mae: 0.0525 - acc: 0.9800 - val_loss: 0.0180 - val_mae: 0.0603 - val_acc: 0.9733\n",
      "Epoch 76/10000\n",
      "3/3 [==============================] - 0s 14ms/step - loss: 0.0136 - mae: 0.0554 - acc: 0.9867 - val_loss: 0.0198 - val_mae: 0.0572 - val_acc: 0.9633\n",
      "Epoch 77/10000\n",
      "3/3 [==============================] - 0s 24ms/step - loss: 0.0141 - mae: 0.0506 - acc: 0.9792 - val_loss: 0.0185 - val_mae: 0.0586 - val_acc: 0.9667\n",
      "Epoch 78/10000\n",
      "3/3 [==============================] - 0s 14ms/step - loss: 0.0128 - mae: 0.0544 - acc: 0.9883 - val_loss: 0.0172 - val_mae: 0.0571 - val_acc: 0.9733\n",
      "Epoch 79/10000\n",
      "3/3 [==============================] - 0s 15ms/step - loss: 0.0113 - mae: 0.0461 - acc: 0.9833 - val_loss: 0.0187 - val_mae: 0.0540 - val_acc: 0.9700\n",
      "Epoch 80/10000\n",
      "3/3 [==============================] - 0s 18ms/step - loss: 0.0110 - mae: 0.0446 - acc: 0.9875 - val_loss: 0.0191 - val_mae: 0.0651 - val_acc: 0.9733\n",
      "Epoch 81/10000\n",
      "3/3 [==============================] - 0s 21ms/step - loss: 0.0122 - mae: 0.0521 - acc: 0.9883 - val_loss: 0.0197 - val_mae: 0.0539 - val_acc: 0.9633\n",
      "Epoch 82/10000\n",
      "3/3 [==============================] - 0s 17ms/step - loss: 0.0126 - mae: 0.0451 - acc: 0.9767 - val_loss: 0.0165 - val_mae: 0.0544 - val_acc: 0.9800\n",
      "Epoch 83/10000\n",
      "3/3 [==============================] - 0s 18ms/step - loss: 0.0109 - mae: 0.0470 - acc: 0.9900 - val_loss: 0.0172 - val_mae: 0.0562 - val_acc: 0.9733\n",
      "Epoch 84/10000\n",
      "3/3 [==============================] - 0s 21ms/step - loss: 0.0109 - mae: 0.0459 - acc: 0.9867 - val_loss: 0.0171 - val_mae: 0.0502 - val_acc: 0.9733\n",
      "Epoch 85/10000\n",
      "3/3 [==============================] - 0s 15ms/step - loss: 0.0103 - mae: 0.0410 - acc: 0.9892 - val_loss: 0.0167 - val_mae: 0.0549 - val_acc: 0.9800\n",
      "Epoch 86/10000\n",
      "3/3 [==============================] - 0s 14ms/step - loss: 0.0110 - mae: 0.0445 - acc: 0.9875 - val_loss: 0.0190 - val_mae: 0.0532 - val_acc: 0.9633\n",
      "Epoch 87/10000\n",
      "3/3 [==============================] - 0s 20ms/step - loss: 0.0113 - mae: 0.0445 - acc: 0.9817 - val_loss: 0.0168 - val_mae: 0.0511 - val_acc: 0.9700\n",
      "Epoch 88/10000\n",
      "3/3 [==============================] - 0s 18ms/step - loss: 0.0098 - mae: 0.0420 - acc: 0.9892 - val_loss: 0.0155 - val_mae: 0.0504 - val_acc: 0.9800\n",
      "Epoch 89/10000\n",
      "3/3 [==============================] - 0s 16ms/step - loss: 0.0096 - mae: 0.0402 - acc: 0.9892 - val_loss: 0.0172 - val_mae: 0.0501 - val_acc: 0.9667\n",
      "Epoch 90/10000\n",
      "3/3 [==============================] - 0s 13ms/step - loss: 0.0099 - mae: 0.0425 - acc: 0.9867 - val_loss: 0.0152 - val_mae: 0.0481 - val_acc: 0.9800\n",
      "Epoch 91/10000\n",
      "3/3 [==============================] - 0s 14ms/step - loss: 0.0100 - mae: 0.0391 - acc: 0.9875 - val_loss: 0.0154 - val_mae: 0.0463 - val_acc: 0.9800\n",
      "Epoch 92/10000\n",
      "3/3 [==============================] - 0s 14ms/step - loss: 0.0093 - mae: 0.0382 - acc: 0.9875 - val_loss: 0.0173 - val_mae: 0.0540 - val_acc: 0.9733\n",
      "Epoch 93/10000\n",
      "3/3 [==============================] - 0s 20ms/step - loss: 0.0100 - mae: 0.0436 - acc: 0.9892 - val_loss: 0.0150 - val_mae: 0.0456 - val_acc: 0.9800\n",
      "Epoch 94/10000\n",
      "3/3 [==============================] - 0s 20ms/step - loss: 0.0094 - mae: 0.0365 - acc: 0.9867 - val_loss: 0.0151 - val_mae: 0.0454 - val_acc: 0.9800\n",
      "Epoch 95/10000\n",
      "3/3 [==============================] - 0s 15ms/step - loss: 0.0084 - mae: 0.0370 - acc: 0.9917 - val_loss: 0.0156 - val_mae: 0.0486 - val_acc: 0.9733\n",
      "Epoch 96/10000\n",
      "3/3 [==============================] - 0s 17ms/step - loss: 0.0088 - mae: 0.0382 - acc: 0.9925 - val_loss: 0.0148 - val_mae: 0.0445 - val_acc: 0.9800\n",
      "Epoch 97/10000\n",
      "3/3 [==============================] - 0s 13ms/step - loss: 0.0084 - mae: 0.0357 - acc: 0.9908 - val_loss: 0.0147 - val_mae: 0.0447 - val_acc: 0.9767\n",
      "Epoch 98/10000\n",
      "3/3 [==============================] - 0s 13ms/step - loss: 0.0082 - mae: 0.0353 - acc: 0.9908 - val_loss: 0.0144 - val_mae: 0.0439 - val_acc: 0.9800\n",
      "Epoch 99/10000\n",
      "3/3 [==============================] - 0s 13ms/step - loss: 0.0081 - mae: 0.0350 - acc: 0.9908 - val_loss: 0.0149 - val_mae: 0.0443 - val_acc: 0.9733\n",
      "Epoch 100/10000\n",
      "3/3 [==============================] - 0s 13ms/step - loss: 0.0083 - mae: 0.0357 - acc: 0.9917 - val_loss: 0.0145 - val_mae: 0.0439 - val_acc: 0.9767\n",
      "Epoch 101/10000\n",
      "3/3 [==============================] - 0s 13ms/step - loss: 0.0078 - mae: 0.0346 - acc: 0.9933 - val_loss: 0.0139 - val_mae: 0.0437 - val_acc: 0.9800\n",
      "Epoch 102/10000\n",
      "3/3 [==============================] - 0s 13ms/step - loss: 0.0080 - mae: 0.0344 - acc: 0.9908 - val_loss: 0.0145 - val_mae: 0.0426 - val_acc: 0.9767\n",
      "Epoch 103/10000\n",
      "3/3 [==============================] - 0s 12ms/step - loss: 0.0078 - mae: 0.0340 - acc: 0.9917 - val_loss: 0.0140 - val_mae: 0.0419 - val_acc: 0.9800\n",
      "Epoch 104/10000\n",
      "3/3 [==============================] - 0s 13ms/step - loss: 0.0075 - mae: 0.0326 - acc: 0.9925 - val_loss: 0.0137 - val_mae: 0.0419 - val_acc: 0.9800\n",
      "Epoch 105/10000\n",
      "3/3 [==============================] - 0s 14ms/step - loss: 0.0077 - mae: 0.0339 - acc: 0.9917 - val_loss: 0.0142 - val_mae: 0.0413 - val_acc: 0.9800\n",
      "Epoch 106/10000\n",
      "3/3 [==============================] - 0s 14ms/step - loss: 0.0081 - mae: 0.0333 - acc: 0.9892 - val_loss: 0.0142 - val_mae: 0.0410 - val_acc: 0.9800\n",
      "Epoch 107/10000\n",
      "3/3 [==============================] - 0s 14ms/step - loss: 0.0076 - mae: 0.0328 - acc: 0.9917 - val_loss: 0.0134 - val_mae: 0.0417 - val_acc: 0.9800\n",
      "Epoch 108/10000\n",
      "3/3 [==============================] - 0s 13ms/step - loss: 0.0075 - mae: 0.0324 - acc: 0.9925 - val_loss: 0.0144 - val_mae: 0.0413 - val_acc: 0.9733\n",
      "Epoch 109/10000\n",
      "3/3 [==============================] - 0s 15ms/step - loss: 0.0072 - mae: 0.0319 - acc: 0.9925 - val_loss: 0.0133 - val_mae: 0.0422 - val_acc: 0.9767\n",
      "Epoch 110/10000\n",
      "3/3 [==============================] - 0s 15ms/step - loss: 0.0073 - mae: 0.0324 - acc: 0.9925 - val_loss: 0.0134 - val_mae: 0.0390 - val_acc: 0.9800\n",
      "Epoch 111/10000\n",
      "3/3 [==============================] - 0s 19ms/step - loss: 0.0069 - mae: 0.0303 - acc: 0.9917 - val_loss: 0.0142 - val_mae: 0.0412 - val_acc: 0.9733\n",
      "Epoch 112/10000\n",
      "3/3 [==============================] - 0s 18ms/step - loss: 0.0070 - mae: 0.0316 - acc: 0.9933 - val_loss: 0.0129 - val_mae: 0.0392 - val_acc: 0.9800\n",
      "Epoch 113/10000\n",
      "3/3 [==============================] - 0s 19ms/step - loss: 0.0069 - mae: 0.0300 - acc: 0.9917 - val_loss: 0.0135 - val_mae: 0.0385 - val_acc: 0.9800\n",
      "Epoch 114/10000\n",
      "3/3 [==============================] - 0s 17ms/step - loss: 0.0068 - mae: 0.0300 - acc: 0.9925 - val_loss: 0.0143 - val_mae: 0.0407 - val_acc: 0.9733\n",
      "Epoch 115/10000\n",
      "3/3 [==============================] - 0s 18ms/step - loss: 0.0068 - mae: 0.0312 - acc: 0.9925 - val_loss: 0.0126 - val_mae: 0.0381 - val_acc: 0.9800\n",
      "Epoch 116/10000\n",
      "3/3 [==============================] - 0s 17ms/step - loss: 0.0068 - mae: 0.0292 - acc: 0.9925 - val_loss: 0.0129 - val_mae: 0.0368 - val_acc: 0.9800\n",
      "Epoch 117/10000\n",
      "3/3 [==============================] - 0s 19ms/step - loss: 0.0067 - mae: 0.0287 - acc: 0.9925 - val_loss: 0.0143 - val_mae: 0.0412 - val_acc: 0.9733\n",
      "Epoch 118/10000\n",
      "3/3 [==============================] - 0s 18ms/step - loss: 0.0071 - mae: 0.0323 - acc: 0.9925 - val_loss: 0.0123 - val_mae: 0.0384 - val_acc: 0.9800\n",
      "Epoch 119/10000\n",
      "3/3 [==============================] - 0s 17ms/step - loss: 0.0064 - mae: 0.0290 - acc: 0.9925 - val_loss: 0.0136 - val_mae: 0.0361 - val_acc: 0.9800\n",
      "Epoch 120/10000\n",
      "3/3 [==============================] - 0s 17ms/step - loss: 0.0072 - mae: 0.0278 - acc: 0.9900 - val_loss: 0.0124 - val_mae: 0.0363 - val_acc: 0.9800\n",
      "Epoch 121/10000\n",
      "3/3 [==============================] - 0s 18ms/step - loss: 0.0064 - mae: 0.0290 - acc: 0.9942 - val_loss: 0.0121 - val_mae: 0.0376 - val_acc: 0.9800\n",
      "Epoch 122/10000\n",
      "3/3 [==============================] - 0s 19ms/step - loss: 0.0069 - mae: 0.0285 - acc: 0.9917 - val_loss: 0.0130 - val_mae: 0.0366 - val_acc: 0.9800\n",
      "Epoch 123/10000\n",
      "3/3 [==============================] - 0s 18ms/step - loss: 0.0062 - mae: 0.0290 - acc: 0.9933 - val_loss: 0.0121 - val_mae: 0.0389 - val_acc: 0.9733\n",
      "Epoch 124/10000\n",
      "3/3 [==============================] - 0s 17ms/step - loss: 0.0063 - mae: 0.0281 - acc: 0.9933 - val_loss: 0.0127 - val_mae: 0.0342 - val_acc: 0.9800\n",
      "Epoch 125/10000\n",
      "3/3 [==============================] - 0s 19ms/step - loss: 0.0062 - mae: 0.0262 - acc: 0.9908 - val_loss: 0.0125 - val_mae: 0.0388 - val_acc: 0.9733\n",
      "Epoch 126/10000\n",
      "3/3 [==============================] - 0s 18ms/step - loss: 0.0062 - mae: 0.0301 - acc: 0.9933 - val_loss: 0.0118 - val_mae: 0.0339 - val_acc: 0.9800\n",
      "Epoch 127/10000\n",
      "3/3 [==============================] - 0s 17ms/step - loss: 0.0065 - mae: 0.0253 - acc: 0.9900 - val_loss: 0.0124 - val_mae: 0.0342 - val_acc: 0.9800\n",
      "Epoch 128/10000\n",
      "3/3 [==============================] - 0s 18ms/step - loss: 0.0059 - mae: 0.0273 - acc: 0.9942 - val_loss: 0.0126 - val_mae: 0.0392 - val_acc: 0.9800\n",
      "Epoch 129/10000\n",
      "3/3 [==============================] - 0s 20ms/step - loss: 0.0065 - mae: 0.0291 - acc: 0.9933 - val_loss: 0.0115 - val_mae: 0.0335 - val_acc: 0.9800\n",
      "Epoch 130/10000\n",
      "3/3 [==============================] - 0s 20ms/step - loss: 0.0054 - mae: 0.0252 - acc: 0.9942 - val_loss: 0.0125 - val_mae: 0.0376 - val_acc: 0.9800\n",
      "Epoch 131/10000\n",
      "3/3 [==============================] - 0s 22ms/step - loss: 0.0059 - mae: 0.0284 - acc: 0.9967 - val_loss: 0.0114 - val_mae: 0.0325 - val_acc: 0.9800\n",
      "Epoch 132/10000\n",
      "3/3 [==============================] - 0s 63ms/step - loss: 0.0055 - mae: 0.0239 - acc: 0.9942 - val_loss: 0.0114 - val_mae: 0.0332 - val_acc: 0.9800\n",
      "Epoch 133/10000\n",
      "3/3 [==============================] - 0s 18ms/step - loss: 0.0054 - mae: 0.0258 - acc: 0.9942 - val_loss: 0.0113 - val_mae: 0.0338 - val_acc: 0.9800\n",
      "Epoch 134/10000\n",
      "3/3 [==============================] - 0s 19ms/step - loss: 0.0051 - mae: 0.0244 - acc: 0.9950 - val_loss: 0.0116 - val_mae: 0.0315 - val_acc: 0.9800\n",
      "Epoch 135/10000\n",
      "3/3 [==============================] - 0s 19ms/step - loss: 0.0056 - mae: 0.0231 - acc: 0.9925 - val_loss: 0.0118 - val_mae: 0.0350 - val_acc: 0.9833\n",
      "Epoch 136/10000\n",
      "3/3 [==============================] - 0s 19ms/step - loss: 0.0062 - mae: 0.0286 - acc: 0.9967 - val_loss: 0.0110 - val_mae: 0.0314 - val_acc: 0.9800\n",
      "Epoch 137/10000\n",
      "3/3 [==============================] - 0s 18ms/step - loss: 0.0068 - mae: 0.0244 - acc: 0.9892 - val_loss: 0.0111 - val_mae: 0.0312 - val_acc: 0.9800\n",
      "Epoch 138/10000\n",
      "3/3 [==============================] - 0s 18ms/step - loss: 0.0055 - mae: 0.0250 - acc: 0.9950 - val_loss: 0.0131 - val_mae: 0.0373 - val_acc: 0.9800\n",
      "Epoch 139/10000\n",
      "3/3 [==============================] - 0s 20ms/step - loss: 0.0058 - mae: 0.0256 - acc: 0.9942 - val_loss: 0.0120 - val_mae: 0.0308 - val_acc: 0.9800\n",
      "Epoch 140/10000\n",
      "3/3 [==============================] - 0s 19ms/step - loss: 0.0065 - mae: 0.0238 - acc: 0.9892 - val_loss: 0.0105 - val_mae: 0.0327 - val_acc: 0.9800\n",
      "Epoch 141/10000\n",
      "3/3 [==============================] - 0s 21ms/step - loss: 0.0052 - mae: 0.0256 - acc: 0.9975 - val_loss: 0.0129 - val_mae: 0.0342 - val_acc: 0.9733\n",
      "Epoch 142/10000\n",
      "3/3 [==============================] - 0s 22ms/step - loss: 0.0056 - mae: 0.0242 - acc: 0.9917 - val_loss: 0.0108 - val_mae: 0.0300 - val_acc: 0.9800\n",
      "Epoch 143/10000\n",
      "3/3 [==============================] - 0s 23ms/step - loss: 0.0051 - mae: 0.0220 - acc: 0.9942 - val_loss: 0.0103 - val_mae: 0.0319 - val_acc: 0.9800\n",
      "Epoch 144/10000\n",
      "3/3 [==============================] - 0s 19ms/step - loss: 0.0048 - mae: 0.0237 - acc: 0.9958 - val_loss: 0.0109 - val_mae: 0.0314 - val_acc: 0.9800\n",
      "Epoch 145/10000\n",
      "3/3 [==============================] - 0s 17ms/step - loss: 0.0048 - mae: 0.0224 - acc: 0.9950 - val_loss: 0.0106 - val_mae: 0.0303 - val_acc: 0.9800\n",
      "Epoch 146/10000\n",
      "3/3 [==============================] - 0s 17ms/step - loss: 0.0046 - mae: 0.0218 - acc: 0.9950 - val_loss: 0.0107 - val_mae: 0.0325 - val_acc: 0.9833\n",
      "Epoch 147/10000\n",
      "3/3 [==============================] - 0s 19ms/step - loss: 0.0052 - mae: 0.0254 - acc: 0.9958 - val_loss: 0.0104 - val_mae: 0.0290 - val_acc: 0.9800\n",
      "Epoch 148/10000\n",
      "3/3 [==============================] - 0s 17ms/step - loss: 0.0053 - mae: 0.0209 - acc: 0.9925 - val_loss: 0.0109 - val_mae: 0.0289 - val_acc: 0.9800\n",
      "Epoch 149/10000\n",
      "3/3 [==============================] - 0s 16ms/step - loss: 0.0049 - mae: 0.0221 - acc: 0.9958 - val_loss: 0.0112 - val_mae: 0.0343 - val_acc: 0.9800\n",
      "Epoch 150/10000\n",
      "3/3 [==============================] - 0s 18ms/step - loss: 0.0053 - mae: 0.0241 - acc: 0.9958 - val_loss: 0.0104 - val_mae: 0.0284 - val_acc: 0.9800\n",
      "Epoch 151/10000\n",
      "3/3 [==============================] - 0s 17ms/step - loss: 0.0046 - mae: 0.0205 - acc: 0.9950 - val_loss: 0.0101 - val_mae: 0.0299 - val_acc: 0.9867\n",
      "Epoch 152/10000\n",
      "3/3 [==============================] - 0s 17ms/step - loss: 0.0044 - mae: 0.0220 - acc: 0.9975 - val_loss: 0.0100 - val_mae: 0.0284 - val_acc: 0.9800\n",
      "Epoch 153/10000\n",
      "3/3 [==============================] - 0s 17ms/step - loss: 0.0047 - mae: 0.0203 - acc: 0.9942 - val_loss: 0.0100 - val_mae: 0.0282 - val_acc: 0.9800\n",
      "Epoch 154/10000\n",
      "3/3 [==============================] - 0s 54ms/step - loss: 0.0044 - mae: 0.0211 - acc: 0.9958 - val_loss: 0.0109 - val_mae: 0.0324 - val_acc: 0.9833\n",
      "Epoch 155/10000\n",
      "3/3 [==============================] - 0s 13ms/step - loss: 0.0046 - mae: 0.0230 - acc: 0.9975 - val_loss: 0.0102 - val_mae: 0.0278 - val_acc: 0.9800\n",
      "Epoch 156/10000\n",
      "3/3 [==============================] - 0s 14ms/step - loss: 0.0044 - mae: 0.0196 - acc: 0.9950 - val_loss: 0.0098 - val_mae: 0.0280 - val_acc: 0.9800\n",
      "Epoch 157/10000\n",
      "3/3 [==============================] - 0s 13ms/step - loss: 0.0042 - mae: 0.0200 - acc: 0.9967 - val_loss: 0.0099 - val_mae: 0.0300 - val_acc: 0.9867\n",
      "Epoch 158/10000\n",
      "3/3 [==============================] - 0s 13ms/step - loss: 0.0045 - mae: 0.0224 - acc: 0.9975 - val_loss: 0.0095 - val_mae: 0.0280 - val_acc: 0.9867\n",
      "Epoch 159/10000\n",
      "3/3 [==============================] - 0s 13ms/step - loss: 0.0044 - mae: 0.0197 - acc: 0.9950 - val_loss: 0.0094 - val_mae: 0.0277 - val_acc: 0.9833\n",
      "Epoch 160/10000\n",
      "3/3 [==============================] - 0s 14ms/step - loss: 0.0041 - mae: 0.0208 - acc: 0.9975 - val_loss: 0.0112 - val_mae: 0.0319 - val_acc: 0.9833\n",
      "Epoch 161/10000\n",
      "3/3 [==============================] - 0s 13ms/step - loss: 0.0045 - mae: 0.0219 - acc: 0.9975 - val_loss: 0.0102 - val_mae: 0.0264 - val_acc: 0.9800\n",
      "Epoch 162/10000\n",
      "3/3 [==============================] - 0s 13ms/step - loss: 0.0050 - mae: 0.0192 - acc: 0.9925 - val_loss: 0.0093 - val_mae: 0.0272 - val_acc: 0.9800\n",
      "Epoch 163/10000\n",
      "3/3 [==============================] - 0s 14ms/step - loss: 0.0043 - mae: 0.0202 - acc: 0.9967 - val_loss: 0.0106 - val_mae: 0.0301 - val_acc: 0.9867\n",
      "Epoch 164/10000\n",
      "3/3 [==============================] - 0s 13ms/step - loss: 0.0042 - mae: 0.0210 - acc: 0.9975 - val_loss: 0.0098 - val_mae: 0.0259 - val_acc: 0.9800\n",
      "Epoch 165/10000\n",
      "3/3 [==============================] - 0s 15ms/step - loss: 0.0049 - mae: 0.0188 - acc: 0.9925 - val_loss: 0.0091 - val_mae: 0.0266 - val_acc: 0.9867\n",
      "Epoch 166/10000\n",
      "3/3 [==============================] - 0s 14ms/step - loss: 0.0040 - mae: 0.0199 - acc: 0.9975 - val_loss: 0.0112 - val_mae: 0.0309 - val_acc: 0.9867\n",
      "Epoch 167/10000\n",
      "3/3 [==============================] - 0s 12ms/step - loss: 0.0049 - mae: 0.0212 - acc: 0.9950 - val_loss: 0.0097 - val_mae: 0.0255 - val_acc: 0.9800\n",
      "Epoch 168/10000\n",
      "3/3 [==============================] - 0s 12ms/step - loss: 0.0041 - mae: 0.0184 - acc: 0.9950 - val_loss: 0.0091 - val_mae: 0.0282 - val_acc: 0.9867\n",
      "Epoch 169/10000\n",
      "3/3 [==============================] - 0s 13ms/step - loss: 0.0040 - mae: 0.0200 - acc: 0.9975 - val_loss: 0.0097 - val_mae: 0.0264 - val_acc: 0.9867\n",
      "Epoch 170/10000\n",
      "3/3 [==============================] - 0s 14ms/step - loss: 0.0039 - mae: 0.0182 - acc: 0.9975 - val_loss: 0.0095 - val_mae: 0.0258 - val_acc: 0.9867\n",
      "Epoch 171/10000\n",
      "3/3 [==============================] - 0s 13ms/step - loss: 0.0036 - mae: 0.0178 - acc: 0.9975 - val_loss: 0.0091 - val_mae: 0.0278 - val_acc: 0.9867\n",
      "Epoch 172/10000\n",
      "3/3 [==============================] - 0s 16ms/step - loss: 0.0042 - mae: 0.0205 - acc: 0.9967 - val_loss: 0.0091 - val_mae: 0.0253 - val_acc: 0.9867\n",
      "Epoch 173/10000\n",
      "3/3 [==============================] - 0s 15ms/step - loss: 0.0037 - mae: 0.0173 - acc: 0.9967 - val_loss: 0.0100 - val_mae: 0.0255 - val_acc: 0.9800\n",
      "Epoch 174/10000\n",
      "3/3 [==============================] - 0s 17ms/step - loss: 0.0041 - mae: 0.0186 - acc: 0.9967 - val_loss: 0.0090 - val_mae: 0.0262 - val_acc: 0.9867\n",
      "Epoch 175/10000\n",
      "3/3 [==============================] - 0s 14ms/step - loss: 0.0038 - mae: 0.0184 - acc: 0.9967 - val_loss: 0.0090 - val_mae: 0.0249 - val_acc: 0.9800\n",
      "Epoch 176/10000\n",
      "3/3 [==============================] - 0s 14ms/step - loss: 0.0041 - mae: 0.0173 - acc: 0.9942 - val_loss: 0.0094 - val_mae: 0.0257 - val_acc: 0.9867\n",
      "Epoch 177/10000\n",
      "3/3 [==============================] - 0s 14ms/step - loss: 0.0038 - mae: 0.0187 - acc: 0.9975 - val_loss: 0.0096 - val_mae: 0.0268 - val_acc: 0.9867\n",
      "Epoch 178/10000\n",
      "3/3 [==============================] - 0s 15ms/step - loss: 0.0037 - mae: 0.0179 - acc: 0.9975 - val_loss: 0.0090 - val_mae: 0.0241 - val_acc: 0.9800\n",
      "Epoch 179/10000\n",
      "3/3 [==============================] - 0s 16ms/step - loss: 0.0037 - mae: 0.0166 - acc: 0.9975 - val_loss: 0.0088 - val_mae: 0.0250 - val_acc: 0.9867\n",
      "Epoch 180/10000\n",
      "3/3 [==============================] - 0s 14ms/step - loss: 0.0037 - mae: 0.0181 - acc: 0.9975 - val_loss: 0.0091 - val_mae: 0.0244 - val_acc: 0.9867\n",
      "Epoch 181/10000\n",
      "3/3 [==============================] - 0s 21ms/step - loss: 0.0035 - mae: 0.0162 - acc: 0.9975 - val_loss: 0.0093 - val_mae: 0.0237 - val_acc: 0.9800\n",
      "Epoch 182/10000\n",
      "3/3 [==============================] - 0s 25ms/step - loss: 0.0037 - mae: 0.0160 - acc: 0.9975 - val_loss: 0.0088 - val_mae: 0.0251 - val_acc: 0.9867\n",
      "Epoch 183/10000\n",
      "3/3 [==============================] - 0s 26ms/step - loss: 0.0037 - mae: 0.0183 - acc: 0.9975 - val_loss: 0.0089 - val_mae: 0.0248 - val_acc: 0.9867\n",
      "Epoch 184/10000\n",
      "3/3 [==============================] - 0s 19ms/step - loss: 0.0034 - mae: 0.0165 - acc: 0.9975 - val_loss: 0.0093 - val_mae: 0.0235 - val_acc: 0.9800\n",
      "Epoch 185/10000\n",
      "3/3 [==============================] - 0s 19ms/step - loss: 0.0037 - mae: 0.0159 - acc: 0.9958 - val_loss: 0.0091 - val_mae: 0.0243 - val_acc: 0.9867\n",
      "Epoch 186/10000\n",
      "3/3 [==============================] - 0s 23ms/step - loss: 0.0036 - mae: 0.0173 - acc: 0.9975 - val_loss: 0.0087 - val_mae: 0.0243 - val_acc: 0.9867\n",
      "Epoch 187/10000\n",
      "3/3 [==============================] - 0s 23ms/step - loss: 0.0033 - mae: 0.0162 - acc: 0.9975 - val_loss: 0.0089 - val_mae: 0.0230 - val_acc: 0.9867\n",
      "Epoch 188/10000\n",
      "3/3 [==============================] - 0s 17ms/step - loss: 0.0034 - mae: 0.0158 - acc: 0.9975 - val_loss: 0.0089 - val_mae: 0.0240 - val_acc: 0.9867\n",
      "Epoch 189/10000\n",
      "3/3 [==============================] - 0s 17ms/step - loss: 0.0033 - mae: 0.0163 - acc: 0.9975 - val_loss: 0.0085 - val_mae: 0.0232 - val_acc: 0.9867\n",
      "Epoch 190/10000\n",
      "3/3 [==============================] - 0s 17ms/step - loss: 0.0033 - mae: 0.0157 - acc: 0.9975 - val_loss: 0.0088 - val_mae: 0.0232 - val_acc: 0.9867\n",
      "Epoch 191/10000\n",
      "3/3 [==============================] - 0s 22ms/step - loss: 0.0033 - mae: 0.0157 - acc: 0.9975 - val_loss: 0.0087 - val_mae: 0.0236 - val_acc: 0.9867\n",
      "Epoch 192/10000\n",
      "3/3 [==============================] - 0s 17ms/step - loss: 0.0032 - mae: 0.0158 - acc: 0.9975 - val_loss: 0.0085 - val_mae: 0.0226 - val_acc: 0.9867\n",
      "Epoch 193/10000\n",
      "3/3 [==============================] - 0s 18ms/step - loss: 0.0033 - mae: 0.0151 - acc: 0.9975 - val_loss: 0.0083 - val_mae: 0.0227 - val_acc: 0.9867\n",
      "Epoch 194/10000\n",
      "3/3 [==============================] - 0s 17ms/step - loss: 0.0032 - mae: 0.0154 - acc: 0.9975 - val_loss: 0.0087 - val_mae: 0.0229 - val_acc: 0.9867\n",
      "Epoch 195/10000\n",
      "3/3 [==============================] - 0s 18ms/step - loss: 0.0032 - mae: 0.0154 - acc: 0.9975 - val_loss: 0.0091 - val_mae: 0.0228 - val_acc: 0.9867\n",
      "Epoch 196/10000\n",
      "3/3 [==============================] - 0s 18ms/step - loss: 0.0033 - mae: 0.0149 - acc: 0.9975 - val_loss: 0.0084 - val_mae: 0.0221 - val_acc: 0.9867\n",
      "Epoch 197/10000\n",
      "3/3 [==============================] - 0s 17ms/step - loss: 0.0032 - mae: 0.0149 - acc: 0.9975 - val_loss: 0.0085 - val_mae: 0.0226 - val_acc: 0.9867\n",
      "Epoch 198/10000\n",
      "3/3 [==============================] - 0s 20ms/step - loss: 0.0031 - mae: 0.0151 - acc: 0.9975 - val_loss: 0.0086 - val_mae: 0.0222 - val_acc: 0.9867\n",
      "Epoch 199/10000\n",
      "3/3 [==============================] - 0s 17ms/step - loss: 0.0032 - mae: 0.0145 - acc: 0.9975 - val_loss: 0.0085 - val_mae: 0.0223 - val_acc: 0.9867\n",
      "Epoch 200/10000\n",
      "3/3 [==============================] - 0s 18ms/step - loss: 0.0032 - mae: 0.0153 - acc: 0.9975 - val_loss: 0.0084 - val_mae: 0.0227 - val_acc: 0.9867\n",
      "Epoch 201/10000\n",
      "3/3 [==============================] - 0s 17ms/step - loss: 0.0032 - mae: 0.0148 - acc: 0.9975 - val_loss: 0.0084 - val_mae: 0.0216 - val_acc: 0.9867\n",
      "Epoch 202/10000\n",
      "3/3 [==============================] - 0s 19ms/step - loss: 0.0030 - mae: 0.0143 - acc: 0.9975 - val_loss: 0.0086 - val_mae: 0.0226 - val_acc: 0.9867\n",
      "Epoch 203/10000\n",
      "3/3 [==============================] - 0s 17ms/step - loss: 0.0031 - mae: 0.0148 - acc: 0.9975 - val_loss: 0.0084 - val_mae: 0.0213 - val_acc: 0.9867\n",
      "Epoch 204/10000\n",
      "3/3 [==============================] - 0s 17ms/step - loss: 0.0031 - mae: 0.0139 - acc: 0.9975 - val_loss: 0.0084 - val_mae: 0.0219 - val_acc: 0.9867\n",
      "Epoch 205/10000\n",
      "3/3 [==============================] - 0s 17ms/step - loss: 0.0032 - mae: 0.0154 - acc: 0.9975 - val_loss: 0.0088 - val_mae: 0.0226 - val_acc: 0.9867\n",
      "Epoch 206/10000\n",
      "3/3 [==============================] - 0s 17ms/step - loss: 0.0030 - mae: 0.0143 - acc: 0.9975 - val_loss: 0.0083 - val_mae: 0.0210 - val_acc: 0.9867\n",
      "Epoch 207/10000\n",
      "3/3 [==============================] - 0s 17ms/step - loss: 0.0033 - mae: 0.0139 - acc: 0.9967 - val_loss: 0.0082 - val_mae: 0.0211 - val_acc: 0.9867\n",
      "Epoch 208/10000\n",
      "3/3 [==============================] - 0s 23ms/step - loss: 0.0029 - mae: 0.0140 - acc: 0.9975 - val_loss: 0.0091 - val_mae: 0.0231 - val_acc: 0.9867\n",
      "Epoch 209/10000\n",
      "3/3 [==============================] - 0s 27ms/step - loss: 0.0032 - mae: 0.0149 - acc: 0.9975 - val_loss: 0.0084 - val_mae: 0.0208 - val_acc: 0.9867\n",
      "Epoch 210/10000\n",
      "3/3 [==============================] - 0s 17ms/step - loss: 0.0029 - mae: 0.0133 - acc: 0.9975 - val_loss: 0.0081 - val_mae: 0.0208 - val_acc: 0.9867\n",
      "Epoch 211/10000\n",
      "3/3 [==============================] - 0s 16ms/step - loss: 0.0029 - mae: 0.0137 - acc: 0.9975 - val_loss: 0.0083 - val_mae: 0.0214 - val_acc: 0.9867\n",
      "Epoch 212/10000\n",
      "3/3 [==============================] - 0s 17ms/step - loss: 0.0029 - mae: 0.0139 - acc: 0.9975 - val_loss: 0.0085 - val_mae: 0.0207 - val_acc: 0.9867\n",
      "Epoch 213/10000\n",
      "3/3 [==============================] - 0s 17ms/step - loss: 0.0030 - mae: 0.0132 - acc: 0.9975 - val_loss: 0.0083 - val_mae: 0.0205 - val_acc: 0.9867\n",
      "Epoch 214/10000\n",
      "3/3 [==============================] - 0s 22ms/step - loss: 0.0029 - mae: 0.0136 - acc: 0.9975 - val_loss: 0.0082 - val_mae: 0.0212 - val_acc: 0.9867\n",
      "Epoch 215/10000\n",
      "3/3 [==============================] - 0s 18ms/step - loss: 0.0029 - mae: 0.0136 - acc: 0.9975 - val_loss: 0.0086 - val_mae: 0.0205 - val_acc: 0.9867\n",
      "Epoch 216/10000\n",
      "3/3 [==============================] - 0s 17ms/step - loss: 0.0030 - mae: 0.0131 - acc: 0.9975 - val_loss: 0.0083 - val_mae: 0.0208 - val_acc: 0.9867\n",
      "Epoch 217/10000\n",
      "3/3 [==============================] - 0s 19ms/step - loss: 0.0029 - mae: 0.0135 - acc: 0.9975 - val_loss: 0.0079 - val_mae: 0.0203 - val_acc: 0.9867\n",
      "Epoch 218/10000\n",
      "3/3 [==============================] - 0s 19ms/step - loss: 0.0029 - mae: 0.0130 - acc: 0.9975 - val_loss: 0.0084 - val_mae: 0.0202 - val_acc: 0.9867\n",
      "Epoch 219/10000\n",
      "3/3 [==============================] - 0s 18ms/step - loss: 0.0028 - mae: 0.0130 - acc: 0.9975 - val_loss: 0.0085 - val_mae: 0.0215 - val_acc: 0.9867\n",
      "Epoch 220/10000\n",
      "3/3 [==============================] - 0s 18ms/step - loss: 0.0029 - mae: 0.0140 - acc: 0.9975 - val_loss: 0.0081 - val_mae: 0.0199 - val_acc: 0.9867\n",
      "Epoch 221/10000\n",
      "3/3 [==============================] - 0s 18ms/step - loss: 0.0029 - mae: 0.0126 - acc: 0.9975 - val_loss: 0.0081 - val_mae: 0.0199 - val_acc: 0.9867\n",
      "Epoch 222/10000\n",
      "3/3 [==============================] - 0s 18ms/step - loss: 0.0029 - mae: 0.0135 - acc: 0.9975 - val_loss: 0.0082 - val_mae: 0.0202 - val_acc: 0.9867\n",
      "Epoch 223/10000\n",
      "3/3 [==============================] - 0s 22ms/step - loss: 0.0030 - mae: 0.0128 - acc: 0.9975 - val_loss: 0.0084 - val_mae: 0.0196 - val_acc: 0.9867\n",
      "Epoch 224/10000\n",
      "3/3 [==============================] - 0s 28ms/step - loss: 0.0027 - mae: 0.0126 - acc: 0.9975 - val_loss: 0.0092 - val_mae: 0.0236 - val_acc: 0.9867\n",
      "Epoch 225/10000\n",
      "3/3 [==============================] - 0s 23ms/step - loss: 0.0034 - mae: 0.0159 - acc: 0.9958 - val_loss: 0.0082 - val_mae: 0.0193 - val_acc: 0.9867\n",
      "Epoch 226/10000\n",
      "3/3 [==============================] - 0s 21ms/step - loss: 0.0034 - mae: 0.0126 - acc: 0.9967 - val_loss: 0.0082 - val_mae: 0.0192 - val_acc: 0.9867\n",
      "Epoch 227/10000\n",
      "3/3 [==============================] - 0s 27ms/step - loss: 0.0027 - mae: 0.0125 - acc: 0.9975 - val_loss: 0.0108 - val_mae: 0.0271 - val_acc: 0.9833\n",
      "Epoch 228/10000\n",
      "3/3 [==============================] - 0s 17ms/step - loss: 0.0039 - mae: 0.0174 - acc: 0.9958 - val_loss: 0.0090 - val_mae: 0.0198 - val_acc: 0.9800\n",
      "Epoch 229/10000\n",
      "3/3 [==============================] - 0s 17ms/step - loss: 0.0041 - mae: 0.0132 - acc: 0.9933 - val_loss: 0.0079 - val_mae: 0.0190 - val_acc: 0.9867\n",
      "Epoch 230/10000\n",
      "3/3 [==============================] - 0s 17ms/step - loss: 0.0031 - mae: 0.0138 - acc: 0.9975 - val_loss: 0.0099 - val_mae: 0.0253 - val_acc: 0.9867\n",
      "Epoch 231/10000\n",
      "3/3 [==============================] - 0s 24ms/step - loss: 0.0035 - mae: 0.0152 - acc: 0.9958 - val_loss: 0.0096 - val_mae: 0.0205 - val_acc: 0.9800\n",
      "Epoch 232/10000\n",
      "3/3 [==============================] - 0s 19ms/step - loss: 0.0036 - mae: 0.0126 - acc: 0.9933 - val_loss: 0.0081 - val_mae: 0.0189 - val_acc: 0.9867\n",
      "Epoch 233/10000\n",
      "3/3 [==============================] - 0s 19ms/step - loss: 0.0029 - mae: 0.0128 - acc: 0.9975 - val_loss: 0.0082 - val_mae: 0.0200 - val_acc: 0.9867\n",
      "Epoch 234/10000\n",
      "3/3 [==============================] - 0s 19ms/step - loss: 0.0028 - mae: 0.0121 - acc: 0.9975 - val_loss: 0.0084 - val_mae: 0.0188 - val_acc: 0.9867\n",
      "Epoch 235/10000\n",
      "3/3 [==============================] - 0s 22ms/step - loss: 0.0028 - mae: 0.0115 - acc: 0.9975 - val_loss: 0.0081 - val_mae: 0.0196 - val_acc: 0.9867\n",
      "Epoch 236/10000\n",
      "3/3 [==============================] - 0s 19ms/step - loss: 0.0029 - mae: 0.0132 - acc: 0.9975 - val_loss: 0.0080 - val_mae: 0.0194 - val_acc: 0.9867\n",
      "Epoch 237/10000\n",
      "3/3 [==============================] - 0s 17ms/step - loss: 0.0027 - mae: 0.0120 - acc: 0.9975 - val_loss: 0.0083 - val_mae: 0.0186 - val_acc: 0.9867\n",
      "Epoch 238/10000\n",
      "3/3 [==============================] - 0s 16ms/step - loss: 0.0028 - mae: 0.0114 - acc: 0.9975 - val_loss: 0.0085 - val_mae: 0.0199 - val_acc: 0.9867\n",
      "Epoch 239/10000\n",
      "3/3 [==============================] - 0s 17ms/step - loss: 0.0028 - mae: 0.0127 - acc: 0.9975 - val_loss: 0.0080 - val_mae: 0.0198 - val_acc: 0.9867\n",
      "Epoch 240/10000\n",
      "3/3 [==============================] - 0s 17ms/step - loss: 0.0027 - mae: 0.0124 - acc: 0.9975 - val_loss: 0.0080 - val_mae: 0.0182 - val_acc: 0.9867\n",
      "Epoch 241/10000\n",
      "3/3 [==============================] - 0s 17ms/step - loss: 0.0028 - mae: 0.0111 - acc: 0.9975 - val_loss: 0.0084 - val_mae: 0.0189 - val_acc: 0.9867\n",
      "Epoch 242/10000\n",
      "3/3 [==============================] - 0s 17ms/step - loss: 0.0026 - mae: 0.0115 - acc: 0.9975 - val_loss: 0.0083 - val_mae: 0.0199 - val_acc: 0.9867\n",
      "Epoch 243/10000\n",
      "3/3 [==============================] - 0s 16ms/step - loss: 0.0027 - mae: 0.0124 - acc: 0.9975 - val_loss: 0.0078 - val_mae: 0.0181 - val_acc: 0.9867\n",
      "Epoch 244/10000\n",
      "3/3 [==============================] - 0s 18ms/step - loss: 0.0027 - mae: 0.0111 - acc: 0.9975 - val_loss: 0.0083 - val_mae: 0.0182 - val_acc: 0.9867\n",
      "Epoch 245/10000\n",
      "3/3 [==============================] - 0s 19ms/step - loss: 0.0026 - mae: 0.0112 - acc: 0.9975 - val_loss: 0.0082 - val_mae: 0.0193 - val_acc: 0.9867\n",
      "Epoch 246/10000\n",
      "3/3 [==============================] - 0s 19ms/step - loss: 0.0026 - mae: 0.0117 - acc: 0.9975 - val_loss: 0.0080 - val_mae: 0.0180 - val_acc: 0.9867\n",
      "Epoch 247/10000\n",
      "3/3 [==============================] - 0s 17ms/step - loss: 0.0026 - mae: 0.0108 - acc: 0.9975 - val_loss: 0.0078 - val_mae: 0.0180 - val_acc: 0.9867\n",
      "Epoch 248/10000\n",
      "3/3 [==============================] - 0s 18ms/step - loss: 0.0026 - mae: 0.0115 - acc: 0.9975 - val_loss: 0.0083 - val_mae: 0.0196 - val_acc: 0.9867\n",
      "Epoch 249/10000\n",
      "3/3 [==============================] - 0s 18ms/step - loss: 0.0026 - mae: 0.0118 - acc: 0.9975 - val_loss: 0.0081 - val_mae: 0.0179 - val_acc: 0.9867\n",
      "Epoch 250/10000\n",
      "3/3 [==============================] - 0s 21ms/step - loss: 0.0026 - mae: 0.0107 - acc: 0.9975 - val_loss: 0.0080 - val_mae: 0.0177 - val_acc: 0.9867\n",
      "Epoch 251/10000\n",
      "3/3 [==============================] - 0s 19ms/step - loss: 0.0026 - mae: 0.0106 - acc: 0.9975 - val_loss: 0.0079 - val_mae: 0.0177 - val_acc: 0.9867\n",
      "Epoch 252/10000\n",
      "3/3 [==============================] - 0s 19ms/step - loss: 0.0025 - mae: 0.0106 - acc: 0.9975 - val_loss: 0.0084 - val_mae: 0.0188 - val_acc: 0.9867\n",
      "Epoch 253/10000\n",
      "3/3 [==============================] - 0s 19ms/step - loss: 0.0026 - mae: 0.0115 - acc: 0.9975 - val_loss: 0.0081 - val_mae: 0.0178 - val_acc: 0.9867\n",
      "Epoch 254/10000\n",
      "3/3 [==============================] - 0s 17ms/step - loss: 0.0025 - mae: 0.0104 - acc: 0.9975 - val_loss: 0.0080 - val_mae: 0.0174 - val_acc: 0.9867\n",
      "Epoch 255/10000\n",
      "3/3 [==============================] - 0s 17ms/step - loss: 0.0026 - mae: 0.0105 - acc: 0.9975 - val_loss: 0.0079 - val_mae: 0.0177 - val_acc: 0.9867\n",
      "Epoch 256/10000\n",
      "3/3 [==============================] - 0s 20ms/step - loss: 0.0025 - mae: 0.0105 - acc: 0.9975 - val_loss: 0.0081 - val_mae: 0.0179 - val_acc: 0.9867\n",
      "Epoch 257/10000\n",
      "3/3 [==============================] - 0s 19ms/step - loss: 0.0025 - mae: 0.0107 - acc: 0.9975 - val_loss: 0.0080 - val_mae: 0.0179 - val_acc: 0.9867\n",
      "Epoch 258/10000\n",
      "3/3 [==============================] - 0s 19ms/step - loss: 0.0025 - mae: 0.0105 - acc: 0.9975 - val_loss: 0.0079 - val_mae: 0.0172 - val_acc: 0.9867\n",
      "Epoch 259/10000\n",
      "3/3 [==============================] - 0s 17ms/step - loss: 0.0025 - mae: 0.0103 - acc: 0.9975 - val_loss: 0.0080 - val_mae: 0.0176 - val_acc: 0.9867\n",
      "Epoch 260/10000\n",
      "3/3 [==============================] - 0s 17ms/step - loss: 0.0025 - mae: 0.0107 - acc: 0.9975 - val_loss: 0.0082 - val_mae: 0.0181 - val_acc: 0.9867\n",
      "Epoch 261/10000\n",
      "3/3 [==============================] - 0s 20ms/step - loss: 0.0025 - mae: 0.0107 - acc: 0.9975 - val_loss: 0.0078 - val_mae: 0.0172 - val_acc: 0.9867\n",
      "Epoch 262/10000\n",
      "3/3 [==============================] - 0s 36ms/step - loss: 0.0025 - mae: 0.0104 - acc: 0.9975 - val_loss: 0.0077 - val_mae: 0.0171 - val_acc: 0.9867\n",
      "Epoch 263/10000\n",
      "3/3 [==============================] - 0s 23ms/step - loss: 0.0025 - mae: 0.0100 - acc: 0.9975 - val_loss: 0.0081 - val_mae: 0.0173 - val_acc: 0.9867\n",
      "Epoch 264/10000\n",
      "3/3 [==============================] - 0s 20ms/step - loss: 0.0025 - mae: 0.0103 - acc: 0.9975 - val_loss: 0.0083 - val_mae: 0.0179 - val_acc: 0.9867\n",
      "Epoch 265/10000\n",
      "3/3 [==============================] - 0s 23ms/step - loss: 0.0025 - mae: 0.0104 - acc: 0.9975 - val_loss: 0.0077 - val_mae: 0.0172 - val_acc: 0.9867\n",
      "Epoch 266/10000\n",
      "3/3 [==============================] - 0s 30ms/step - loss: 0.0025 - mae: 0.0105 - acc: 0.9975 - val_loss: 0.0078 - val_mae: 0.0173 - val_acc: 0.9867\n",
      "Epoch 267/10000\n",
      "3/3 [==============================] - 0s 28ms/step - loss: 0.0024 - mae: 0.0103 - acc: 0.9975 - val_loss: 0.0082 - val_mae: 0.0176 - val_acc: 0.9867\n",
      "Epoch 268/10000\n",
      "3/3 [==============================] - 0s 31ms/step - loss: 0.0024 - mae: 0.0105 - acc: 0.9975 - val_loss: 0.0079 - val_mae: 0.0173 - val_acc: 0.9867\n",
      "Epoch 269/10000\n",
      "3/3 [==============================] - 0s 20ms/step - loss: 0.0024 - mae: 0.0101 - acc: 0.9975 - val_loss: 0.0076 - val_mae: 0.0167 - val_acc: 0.9867\n",
      "Epoch 270/10000\n",
      "3/3 [==============================] - 0s 17ms/step - loss: 0.0025 - mae: 0.0099 - acc: 0.9975 - val_loss: 0.0079 - val_mae: 0.0168 - val_acc: 0.9867\n",
      "Epoch 271/10000\n",
      "3/3 [==============================] - 0s 17ms/step - loss: 0.0024 - mae: 0.0099 - acc: 0.9975 - val_loss: 0.0081 - val_mae: 0.0171 - val_acc: 0.9867\n",
      "Epoch 272/10000\n",
      "3/3 [==============================] - 0s 18ms/step - loss: 0.0024 - mae: 0.0098 - acc: 0.9975 - val_loss: 0.0077 - val_mae: 0.0166 - val_acc: 0.9867\n",
      "Epoch 273/10000\n",
      "3/3 [==============================] - 0s 18ms/step - loss: 0.0025 - mae: 0.0098 - acc: 0.9975 - val_loss: 0.0077 - val_mae: 0.0165 - val_acc: 0.9867\n",
      "Epoch 274/10000\n",
      "3/3 [==============================] - 0s 19ms/step - loss: 0.0024 - mae: 0.0096 - acc: 0.9975 - val_loss: 0.0080 - val_mae: 0.0168 - val_acc: 0.9867\n",
      "Epoch 275/10000\n",
      "3/3 [==============================] - 0s 17ms/step - loss: 0.0024 - mae: 0.0098 - acc: 0.9975 - val_loss: 0.0079 - val_mae: 0.0167 - val_acc: 0.9867\n",
      "Epoch 276/10000\n",
      "3/3 [==============================] - 0s 17ms/step - loss: 0.0023 - mae: 0.0094 - acc: 0.9975 - val_loss: 0.0078 - val_mae: 0.0163 - val_acc: 0.9867\n",
      "Epoch 277/10000\n",
      "3/3 [==============================] - 0s 18ms/step - loss: 0.0024 - mae: 0.0094 - acc: 0.9975 - val_loss: 0.0080 - val_mae: 0.0166 - val_acc: 0.9867\n",
      "Epoch 278/10000\n",
      "3/3 [==============================] - 0s 18ms/step - loss: 0.0024 - mae: 0.0097 - acc: 0.9975 - val_loss: 0.0082 - val_mae: 0.0172 - val_acc: 0.9867\n",
      "Epoch 279/10000\n",
      "3/3 [==============================] - 0s 18ms/step - loss: 0.0024 - mae: 0.0100 - acc: 0.9975 - val_loss: 0.0079 - val_mae: 0.0167 - val_acc: 0.9867\n",
      "Epoch 280/10000\n",
      "3/3 [==============================] - 0s 18ms/step - loss: 0.0024 - mae: 0.0098 - acc: 0.9975 - val_loss: 0.0078 - val_mae: 0.0162 - val_acc: 0.9867\n",
      "Epoch 281/10000\n",
      "3/3 [==============================] - 0s 18ms/step - loss: 0.0023 - mae: 0.0092 - acc: 0.9975 - val_loss: 0.0081 - val_mae: 0.0164 - val_acc: 0.9867\n",
      "Epoch 282/10000\n",
      "3/3 [==============================] - 0s 19ms/step - loss: 0.0024 - mae: 0.0092 - acc: 0.9975 - val_loss: 0.0082 - val_mae: 0.0171 - val_acc: 0.9867\n",
      "Epoch 283/10000\n",
      "3/3 [==============================] - 0s 27ms/step - loss: 0.0024 - mae: 0.0100 - acc: 0.9975 - val_loss: 0.0080 - val_mae: 0.0170 - val_acc: 0.9867\n",
      "Epoch 284/10000\n",
      "3/3 [==============================] - 0s 29ms/step - loss: 0.0024 - mae: 0.0097 - acc: 0.9975 - val_loss: 0.0077 - val_mae: 0.0160 - val_acc: 0.9867\n",
      "Epoch 285/10000\n",
      "3/3 [==============================] - 0s 21ms/step - loss: 0.0023 - mae: 0.0091 - acc: 0.9975 - val_loss: 0.0080 - val_mae: 0.0162 - val_acc: 0.9867\n",
      "Epoch 286/10000\n",
      "3/3 [==============================] - 0s 17ms/step - loss: 0.0023 - mae: 0.0092 - acc: 0.9975 - val_loss: 0.0080 - val_mae: 0.0163 - val_acc: 0.9867\n",
      "Epoch 287/10000\n",
      "3/3 [==============================] - 0s 17ms/step - loss: 0.0023 - mae: 0.0091 - acc: 0.9975 - val_loss: 0.0077 - val_mae: 0.0159 - val_acc: 0.9867\n",
      "Epoch 288/10000\n",
      "3/3 [==============================] - 0s 23ms/step - loss: 0.0023 - mae: 0.0090 - acc: 0.9975 - val_loss: 0.0078 - val_mae: 0.0161 - val_acc: 0.9867\n",
      "Epoch 289/10000\n",
      "3/3 [==============================] - 0s 20ms/step - loss: 0.0023 - mae: 0.0092 - acc: 0.9975 - val_loss: 0.0080 - val_mae: 0.0164 - val_acc: 0.9867\n",
      "Epoch 290/10000\n",
      "3/3 [==============================] - 0s 19ms/step - loss: 0.0023 - mae: 0.0092 - acc: 0.9975 - val_loss: 0.0078 - val_mae: 0.0159 - val_acc: 0.9867\n",
      "Epoch 291/10000\n",
      "3/3 [==============================] - 0s 18ms/step - loss: 0.0023 - mae: 0.0089 - acc: 0.9975 - val_loss: 0.0080 - val_mae: 0.0160 - val_acc: 0.9867\n",
      "Epoch 292/10000\n",
      "3/3 [==============================] - 0s 18ms/step - loss: 0.0023 - mae: 0.0091 - acc: 0.9975 - val_loss: 0.0080 - val_mae: 0.0163 - val_acc: 0.9867\n",
      "Epoch 293/10000\n",
      "3/3 [==============================] - 0s 19ms/step - loss: 0.0023 - mae: 0.0092 - acc: 0.9975 - val_loss: 0.0079 - val_mae: 0.0157 - val_acc: 0.9867\n",
      "Epoch 294/10000\n",
      "3/3 [==============================] - 0s 19ms/step - loss: 0.0023 - mae: 0.0087 - acc: 0.9975 - val_loss: 0.0079 - val_mae: 0.0157 - val_acc: 0.9867\n",
      "Epoch 295/10000\n",
      "3/3 [==============================] - 0s 17ms/step - loss: 0.0023 - mae: 0.0086 - acc: 0.9975 - val_loss: 0.0081 - val_mae: 0.0162 - val_acc: 0.9867\n",
      "Epoch 296/10000\n",
      "3/3 [==============================] - 0s 17ms/step - loss: 0.0023 - mae: 0.0091 - acc: 0.9975 - val_loss: 0.0079 - val_mae: 0.0161 - val_acc: 0.9867\n",
      "Epoch 297/10000\n",
      "3/3 [==============================] - 0s 17ms/step - loss: 0.0023 - mae: 0.0090 - acc: 0.9975 - val_loss: 0.0077 - val_mae: 0.0155 - val_acc: 0.9867\n",
      "Epoch 298/10000\n",
      "3/3 [==============================] - 0s 17ms/step - loss: 0.0023 - mae: 0.0086 - acc: 0.9975 - val_loss: 0.0078 - val_mae: 0.0155 - val_acc: 0.9867\n",
      "Epoch 299/10000\n",
      "3/3 [==============================] - 0s 21ms/step - loss: 0.0022 - mae: 0.0086 - acc: 0.9975 - val_loss: 0.0080 - val_mae: 0.0160 - val_acc: 0.9867\n",
      "Epoch 300/10000\n",
      "3/3 [==============================] - 0s 18ms/step - loss: 0.0022 - mae: 0.0090 - acc: 0.9975 - val_loss: 0.0080 - val_mae: 0.0157 - val_acc: 0.9867\n",
      "Epoch 301/10000\n",
      "3/3 [==============================] - 0s 19ms/step - loss: 0.0023 - mae: 0.0086 - acc: 0.9975 - val_loss: 0.0079 - val_mae: 0.0155 - val_acc: 0.9867\n",
      "Epoch 302/10000\n",
      "3/3 [==============================] - 0s 19ms/step - loss: 0.0022 - mae: 0.0086 - acc: 0.9975 - val_loss: 0.0080 - val_mae: 0.0163 - val_acc: 0.9867\n",
      "Epoch 303/10000\n",
      "3/3 [==============================] - 0s 21ms/step - loss: 0.0023 - mae: 0.0093 - acc: 0.9975 - val_loss: 0.0079 - val_mae: 0.0156 - val_acc: 0.9867\n",
      "Epoch 304/10000\n",
      "3/3 [==============================] - 0s 18ms/step - loss: 0.0022 - mae: 0.0085 - acc: 0.9975 - val_loss: 0.0080 - val_mae: 0.0154 - val_acc: 0.9867\n",
      "Epoch 305/10000\n",
      "3/3 [==============================] - 0s 18ms/step - loss: 0.0023 - mae: 0.0084 - acc: 0.9975 - val_loss: 0.0077 - val_mae: 0.0154 - val_acc: 0.9867\n",
      "Epoch 306/10000\n",
      "3/3 [==============================] - 0s 18ms/step - loss: 0.0025 - mae: 0.0095 - acc: 0.9975 - val_loss: 0.0079 - val_mae: 0.0153 - val_acc: 0.9867\n",
      "Epoch 307/10000\n",
      "3/3 [==============================] - 0s 16ms/step - loss: 0.0027 - mae: 0.0089 - acc: 0.9975 - val_loss: 0.0093 - val_mae: 0.0173 - val_acc: 0.9833\n",
      "Epoch 308/10000\n",
      "3/3 [==============================] - 0s 18ms/step - loss: 0.0026 - mae: 0.0090 - acc: 0.9975 - val_loss: 0.0084 - val_mae: 0.0177 - val_acc: 0.9867\n",
      "Epoch 309/10000\n",
      "3/3 [==============================] - 0s 18ms/step - loss: 0.0028 - mae: 0.0112 - acc: 0.9958 - val_loss: 0.0077 - val_mae: 0.0152 - val_acc: 0.9867\n",
      "Epoch 310/10000\n",
      "3/3 [==============================] - 0s 25ms/step - loss: 0.0024 - mae: 0.0084 - acc: 0.9975 - val_loss: 0.0083 - val_mae: 0.0156 - val_acc: 0.9867\n",
      "Epoch 311/10000\n",
      "3/3 [==============================] - 0s 19ms/step - loss: 0.0024 - mae: 0.0087 - acc: 0.9975 - val_loss: 0.0086 - val_mae: 0.0180 - val_acc: 0.9867\n",
      "Epoch 312/10000\n",
      "3/3 [==============================] - 0s 22ms/step - loss: 0.0027 - mae: 0.0107 - acc: 0.9967 - val_loss: 0.0079 - val_mae: 0.0150 - val_acc: 0.9867\n",
      "Epoch 313/10000\n",
      "3/3 [==============================] - 0s 28ms/step - loss: 0.0024 - mae: 0.0082 - acc: 0.9975 - val_loss: 0.0080 - val_mae: 0.0151 - val_acc: 0.9867\n",
      "Epoch 314/10000\n",
      "3/3 [==============================] - 0s 17ms/step - loss: 0.0022 - mae: 0.0080 - acc: 0.9975 - val_loss: 0.0080 - val_mae: 0.0157 - val_acc: 0.9867\n",
      "Epoch 315/10000\n",
      "3/3 [==============================] - 0s 18ms/step - loss: 0.0022 - mae: 0.0088 - acc: 0.9975 - val_loss: 0.0081 - val_mae: 0.0156 - val_acc: 0.9867\n",
      "Epoch 316/10000\n",
      "3/3 [==============================] - 0s 20ms/step - loss: 0.0022 - mae: 0.0083 - acc: 0.9975 - val_loss: 0.0081 - val_mae: 0.0151 - val_acc: 0.9867\n",
      "Epoch 317/10000\n",
      "3/3 [==============================] - 0s 20ms/step - loss: 0.0022 - mae: 0.0080 - acc: 0.9975 - val_loss: 0.0077 - val_mae: 0.0149 - val_acc: 0.9867\n",
      "Epoch 318/10000\n",
      "3/3 [==============================] - 0s 18ms/step - loss: 0.0022 - mae: 0.0081 - acc: 0.9975 - val_loss: 0.0079 - val_mae: 0.0154 - val_acc: 0.9867\n",
      "Epoch 319/10000\n",
      "3/3 [==============================] - 0s 20ms/step - loss: 0.0022 - mae: 0.0085 - acc: 0.9975 - val_loss: 0.0081 - val_mae: 0.0154 - val_acc: 0.9867\n",
      "Epoch 00319: early stopping\n"
     ]
    }
   ],
   "source": [
    "trainHistory = model.fit(\n",
    "    x_train, y_train,\n",
    "    batch_size=batch_size,\n",
    "    epochs=epochs,\n",
    "    validation_data=(x_val, y_val),\n",
    "    callbacks=callbacks\n",
    ")"
   ],
   "metadata": {
    "collapsed": false,
    "pycharm": {
     "name": "#%%\n"
    }
   }
  },
  {
   "cell_type": "code",
   "execution_count": 110,
   "outputs": [],
   "source": [
    "best_model_epoch = trainHistory.history['loss'].index(min(trainHistory.history['loss'])) + 1\n",
    "with open(os.path.join(save_models, model_dir, 'READMD.md'), 'w', encoding='utf-8') as file:\n",
    "    file.write('訓練結果：\\n')\n",
    "    file.write(f'\\t{trainHistory.history.keys()}\\n')\n",
    "    file.write(f'\\tbest_model_epoch = {best_model_epoch}\\n')"
   ],
   "metadata": {
    "collapsed": false,
    "pycharm": {
     "name": "#%%\n"
    }
   }
  },
  {
   "cell_type": "markdown",
   "source": [
    "**繪製Loss線**"
   ],
   "metadata": {
    "collapsed": false
   }
  },
  {
   "cell_type": "code",
   "execution_count": 218,
   "outputs": [
    {
     "name": "stdout",
     "output_type": "stream",
     "text": [
      "2022_05_01-20_42_56-Conv2D_Double-params_24931-batch_512-optimizer_adam-loss_mse-history_loss.jpg\n"
     ]
    },
    {
     "ename": "FileNotFoundError",
     "evalue": "[Errno 2] No such file or directory: 'new_output_models\\\\2022_05_01-20_42_56-Conv2D_Double-params_24931-batch_512-optimizer_adam-loss_mse\\\\2022_05_01-20_42_56-Conv2D_Double-params_24931-batch_512-optimizer_adam-loss_mse-history_loss.jpg'",
     "output_type": "error",
     "traceback": [
      "\u001B[1;31m---------------------------------------------------------------------------\u001B[0m",
      "\u001B[1;31mFileNotFoundError\u001B[0m                         Traceback (most recent call last)",
      "Input \u001B[1;32mIn [218]\u001B[0m, in \u001B[0;36m<cell line: 11>\u001B[1;34m()\u001B[0m\n\u001B[0;32m      8\u001B[0m     plt\u001B[38;5;241m.\u001B[39msavefig(path)\n\u001B[0;32m      9\u001B[0m     plt\u001B[38;5;241m.\u001B[39mshow()\n\u001B[1;32m---> 11\u001B[0m \u001B[43mdraw_history\u001B[49m\u001B[43m(\u001B[49m\u001B[38;5;124;43m'\u001B[39;49m\u001B[38;5;124;43mloss\u001B[39;49m\u001B[38;5;124;43m'\u001B[39;49m\u001B[43m)\u001B[49m\n",
      "Input \u001B[1;32mIn [218]\u001B[0m, in \u001B[0;36mdraw_history\u001B[1;34m(key)\u001B[0m\n\u001B[0;32m      6\u001B[0m plt\u001B[38;5;241m.\u001B[39mlegend()\n\u001B[0;32m      7\u001B[0m \u001B[38;5;28mprint\u001B[39m(filename)\n\u001B[1;32m----> 8\u001B[0m \u001B[43mplt\u001B[49m\u001B[38;5;241;43m.\u001B[39;49m\u001B[43msavefig\u001B[49m\u001B[43m(\u001B[49m\u001B[43mpath\u001B[49m\u001B[43m)\u001B[49m\n\u001B[0;32m      9\u001B[0m plt\u001B[38;5;241m.\u001B[39mshow()\n",
      "File \u001B[1;32m~\\Desktop\\Git-Repository\\MediaPipe-Gesture-Recognition\\venv\\lib\\site-packages\\matplotlib\\pyplot.py:958\u001B[0m, in \u001B[0;36msavefig\u001B[1;34m(*args, **kwargs)\u001B[0m\n\u001B[0;32m    955\u001B[0m \u001B[38;5;129m@_copy_docstring_and_deprecators\u001B[39m(Figure\u001B[38;5;241m.\u001B[39msavefig)\n\u001B[0;32m    956\u001B[0m \u001B[38;5;28;01mdef\u001B[39;00m \u001B[38;5;21msavefig\u001B[39m(\u001B[38;5;241m*\u001B[39margs, \u001B[38;5;241m*\u001B[39m\u001B[38;5;241m*\u001B[39mkwargs):\n\u001B[0;32m    957\u001B[0m     fig \u001B[38;5;241m=\u001B[39m gcf()\n\u001B[1;32m--> 958\u001B[0m     res \u001B[38;5;241m=\u001B[39m fig\u001B[38;5;241m.\u001B[39msavefig(\u001B[38;5;241m*\u001B[39margs, \u001B[38;5;241m*\u001B[39m\u001B[38;5;241m*\u001B[39mkwargs)\n\u001B[0;32m    959\u001B[0m     fig\u001B[38;5;241m.\u001B[39mcanvas\u001B[38;5;241m.\u001B[39mdraw_idle()   \u001B[38;5;66;03m# need this if 'transparent=True' to reset colors\u001B[39;00m\n\u001B[0;32m    960\u001B[0m     \u001B[38;5;28;01mreturn\u001B[39;00m res\n",
      "File \u001B[1;32m~\\Desktop\\Git-Repository\\MediaPipe-Gesture-Recognition\\venv\\lib\\site-packages\\matplotlib\\figure.py:3019\u001B[0m, in \u001B[0;36mFigure.savefig\u001B[1;34m(self, fname, transparent, **kwargs)\u001B[0m\n\u001B[0;32m   3015\u001B[0m     \u001B[38;5;28;01mfor\u001B[39;00m ax \u001B[38;5;129;01min\u001B[39;00m \u001B[38;5;28mself\u001B[39m\u001B[38;5;241m.\u001B[39maxes:\n\u001B[0;32m   3016\u001B[0m         stack\u001B[38;5;241m.\u001B[39menter_context(\n\u001B[0;32m   3017\u001B[0m             ax\u001B[38;5;241m.\u001B[39mpatch\u001B[38;5;241m.\u001B[39m_cm_set(facecolor\u001B[38;5;241m=\u001B[39m\u001B[38;5;124m'\u001B[39m\u001B[38;5;124mnone\u001B[39m\u001B[38;5;124m'\u001B[39m, edgecolor\u001B[38;5;241m=\u001B[39m\u001B[38;5;124m'\u001B[39m\u001B[38;5;124mnone\u001B[39m\u001B[38;5;124m'\u001B[39m))\n\u001B[1;32m-> 3019\u001B[0m \u001B[38;5;28mself\u001B[39m\u001B[38;5;241m.\u001B[39mcanvas\u001B[38;5;241m.\u001B[39mprint_figure(fname, \u001B[38;5;241m*\u001B[39m\u001B[38;5;241m*\u001B[39mkwargs)\n",
      "File \u001B[1;32m~\\Desktop\\Git-Repository\\MediaPipe-Gesture-Recognition\\venv\\lib\\site-packages\\matplotlib\\backend_bases.py:2319\u001B[0m, in \u001B[0;36mFigureCanvasBase.print_figure\u001B[1;34m(self, filename, dpi, facecolor, edgecolor, orientation, format, bbox_inches, pad_inches, bbox_extra_artists, backend, **kwargs)\u001B[0m\n\u001B[0;32m   2315\u001B[0m \u001B[38;5;28;01mtry\u001B[39;00m:\n\u001B[0;32m   2316\u001B[0m     \u001B[38;5;66;03m# _get_renderer may change the figure dpi (as vector formats\u001B[39;00m\n\u001B[0;32m   2317\u001B[0m     \u001B[38;5;66;03m# force the figure dpi to 72), so we need to set it again here.\u001B[39;00m\n\u001B[0;32m   2318\u001B[0m     \u001B[38;5;28;01mwith\u001B[39;00m cbook\u001B[38;5;241m.\u001B[39m_setattr_cm(\u001B[38;5;28mself\u001B[39m\u001B[38;5;241m.\u001B[39mfigure, dpi\u001B[38;5;241m=\u001B[39mdpi):\n\u001B[1;32m-> 2319\u001B[0m         result \u001B[38;5;241m=\u001B[39m print_method(\n\u001B[0;32m   2320\u001B[0m             filename,\n\u001B[0;32m   2321\u001B[0m             facecolor\u001B[38;5;241m=\u001B[39mfacecolor,\n\u001B[0;32m   2322\u001B[0m             edgecolor\u001B[38;5;241m=\u001B[39medgecolor,\n\u001B[0;32m   2323\u001B[0m             orientation\u001B[38;5;241m=\u001B[39morientation,\n\u001B[0;32m   2324\u001B[0m             bbox_inches_restore\u001B[38;5;241m=\u001B[39m_bbox_inches_restore,\n\u001B[0;32m   2325\u001B[0m             \u001B[38;5;241m*\u001B[39m\u001B[38;5;241m*\u001B[39mkwargs)\n\u001B[0;32m   2326\u001B[0m \u001B[38;5;28;01mfinally\u001B[39;00m:\n\u001B[0;32m   2327\u001B[0m     \u001B[38;5;28;01mif\u001B[39;00m bbox_inches \u001B[38;5;129;01mand\u001B[39;00m restore_bbox:\n",
      "File \u001B[1;32m~\\Desktop\\Git-Repository\\MediaPipe-Gesture-Recognition\\venv\\lib\\site-packages\\matplotlib\\backend_bases.py:1648\u001B[0m, in \u001B[0;36m_check_savefig_extra_args.<locals>.wrapper\u001B[1;34m(*args, **kwargs)\u001B[0m\n\u001B[0;32m   1640\u001B[0m     _api\u001B[38;5;241m.\u001B[39mwarn_deprecated(\n\u001B[0;32m   1641\u001B[0m         \u001B[38;5;124m'\u001B[39m\u001B[38;5;124m3.3\u001B[39m\u001B[38;5;124m'\u001B[39m, name\u001B[38;5;241m=\u001B[39mname, removal\u001B[38;5;241m=\u001B[39m\u001B[38;5;124m'\u001B[39m\u001B[38;5;124m3.6\u001B[39m\u001B[38;5;124m'\u001B[39m,\n\u001B[0;32m   1642\u001B[0m         message\u001B[38;5;241m=\u001B[39m\u001B[38;5;124m'\u001B[39m\u001B[38;5;132;01m%(name)s\u001B[39;00m\u001B[38;5;124m() got unexpected keyword argument \u001B[39m\u001B[38;5;124m\"\u001B[39m\u001B[38;5;124m'\u001B[39m\n\u001B[0;32m   1643\u001B[0m                 \u001B[38;5;241m+\u001B[39m arg \u001B[38;5;241m+\u001B[39m \u001B[38;5;124m'\u001B[39m\u001B[38;5;124m\"\u001B[39m\u001B[38;5;124m which is no longer supported as of \u001B[39m\u001B[38;5;124m'\u001B[39m\n\u001B[0;32m   1644\u001B[0m                 \u001B[38;5;124m'\u001B[39m\u001B[38;5;132;01m%(since)s\u001B[39;00m\u001B[38;5;124m and will become an error \u001B[39m\u001B[38;5;124m'\u001B[39m\n\u001B[0;32m   1645\u001B[0m                 \u001B[38;5;124m'\u001B[39m\u001B[38;5;132;01m%(removal)s\u001B[39;00m\u001B[38;5;124m'\u001B[39m)\n\u001B[0;32m   1646\u001B[0m     kwargs\u001B[38;5;241m.\u001B[39mpop(arg)\n\u001B[1;32m-> 1648\u001B[0m \u001B[38;5;28;01mreturn\u001B[39;00m func(\u001B[38;5;241m*\u001B[39margs, \u001B[38;5;241m*\u001B[39m\u001B[38;5;241m*\u001B[39mkwargs)\n",
      "File \u001B[1;32m~\\Desktop\\Git-Repository\\MediaPipe-Gesture-Recognition\\venv\\lib\\site-packages\\matplotlib\\_api\\deprecation.py:412\u001B[0m, in \u001B[0;36mdelete_parameter.<locals>.wrapper\u001B[1;34m(*inner_args, **inner_kwargs)\u001B[0m\n\u001B[0;32m    402\u001B[0m     deprecation_addendum \u001B[38;5;241m=\u001B[39m (\n\u001B[0;32m    403\u001B[0m         \u001B[38;5;124mf\u001B[39m\u001B[38;5;124m\"\u001B[39m\u001B[38;5;124mIf any parameter follows \u001B[39m\u001B[38;5;132;01m{\u001B[39;00mname\u001B[38;5;132;01m!r}\u001B[39;00m\u001B[38;5;124m, they should be passed as \u001B[39m\u001B[38;5;124m\"\u001B[39m\n\u001B[0;32m    404\u001B[0m         \u001B[38;5;124mf\u001B[39m\u001B[38;5;124m\"\u001B[39m\u001B[38;5;124mkeyword, not positionally.\u001B[39m\u001B[38;5;124m\"\u001B[39m)\n\u001B[0;32m    405\u001B[0m     warn_deprecated(\n\u001B[0;32m    406\u001B[0m         since,\n\u001B[0;32m    407\u001B[0m         name\u001B[38;5;241m=\u001B[39m\u001B[38;5;28mrepr\u001B[39m(name),\n\u001B[1;32m   (...)\u001B[0m\n\u001B[0;32m    410\u001B[0m                  \u001B[38;5;28;01melse\u001B[39;00m deprecation_addendum,\n\u001B[0;32m    411\u001B[0m         \u001B[38;5;241m*\u001B[39m\u001B[38;5;241m*\u001B[39mkwargs)\n\u001B[1;32m--> 412\u001B[0m \u001B[38;5;28;01mreturn\u001B[39;00m func(\u001B[38;5;241m*\u001B[39minner_args, \u001B[38;5;241m*\u001B[39m\u001B[38;5;241m*\u001B[39minner_kwargs)\n",
      "File \u001B[1;32m~\\Desktop\\Git-Repository\\MediaPipe-Gesture-Recognition\\venv\\lib\\site-packages\\matplotlib\\backends\\backend_agg.py:583\u001B[0m, in \u001B[0;36mFigureCanvasAgg.print_jpg\u001B[1;34m(self, filename_or_obj, pil_kwargs, *args, **kwargs)\u001B[0m\n\u001B[0;32m    581\u001B[0m pil_kwargs\u001B[38;5;241m.\u001B[39msetdefault(\u001B[38;5;124m\"\u001B[39m\u001B[38;5;124mdpi\u001B[39m\u001B[38;5;124m\"\u001B[39m, (\u001B[38;5;28mself\u001B[39m\u001B[38;5;241m.\u001B[39mfigure\u001B[38;5;241m.\u001B[39mdpi, \u001B[38;5;28mself\u001B[39m\u001B[38;5;241m.\u001B[39mfigure\u001B[38;5;241m.\u001B[39mdpi))\n\u001B[0;32m    582\u001B[0m \u001B[38;5;66;03m# Drop alpha channel now.\u001B[39;00m\n\u001B[1;32m--> 583\u001B[0m \u001B[38;5;28;01mreturn\u001B[39;00m (Image\u001B[38;5;241m.\u001B[39mfromarray(np\u001B[38;5;241m.\u001B[39masarray(\u001B[38;5;28mself\u001B[39m\u001B[38;5;241m.\u001B[39mbuffer_rgba())[\u001B[38;5;241m.\u001B[39m\u001B[38;5;241m.\u001B[39m\u001B[38;5;241m.\u001B[39m, :\u001B[38;5;241m3\u001B[39m])\n\u001B[0;32m    584\u001B[0m         \u001B[38;5;241m.\u001B[39msave(filename_or_obj, \u001B[38;5;28mformat\u001B[39m\u001B[38;5;241m=\u001B[39m\u001B[38;5;124m'\u001B[39m\u001B[38;5;124mjpeg\u001B[39m\u001B[38;5;124m'\u001B[39m, \u001B[38;5;241m*\u001B[39m\u001B[38;5;241m*\u001B[39mpil_kwargs))\n",
      "File \u001B[1;32m~\\Desktop\\Git-Repository\\MediaPipe-Gesture-Recognition\\venv\\lib\\site-packages\\PIL\\Image.py:2297\u001B[0m, in \u001B[0;36mImage.save\u001B[1;34m(self, fp, format, **params)\u001B[0m\n\u001B[0;32m   2295\u001B[0m         fp \u001B[38;5;241m=\u001B[39m builtins\u001B[38;5;241m.\u001B[39mopen(filename, \u001B[38;5;124m\"\u001B[39m\u001B[38;5;124mr+b\u001B[39m\u001B[38;5;124m\"\u001B[39m)\n\u001B[0;32m   2296\u001B[0m     \u001B[38;5;28;01melse\u001B[39;00m:\n\u001B[1;32m-> 2297\u001B[0m         fp \u001B[38;5;241m=\u001B[39m \u001B[43mbuiltins\u001B[49m\u001B[38;5;241;43m.\u001B[39;49m\u001B[43mopen\u001B[49m\u001B[43m(\u001B[49m\u001B[43mfilename\u001B[49m\u001B[43m,\u001B[49m\u001B[43m \u001B[49m\u001B[38;5;124;43m\"\u001B[39;49m\u001B[38;5;124;43mw+b\u001B[39;49m\u001B[38;5;124;43m\"\u001B[39;49m\u001B[43m)\u001B[49m\n\u001B[0;32m   2299\u001B[0m \u001B[38;5;28;01mtry\u001B[39;00m:\n\u001B[0;32m   2300\u001B[0m     save_handler(\u001B[38;5;28mself\u001B[39m, fp, filename)\n",
      "\u001B[1;31mFileNotFoundError\u001B[0m: [Errno 2] No such file or directory: 'new_output_models\\\\2022_05_01-20_42_56-Conv2D_Double-params_24931-batch_512-optimizer_adam-loss_mse\\\\2022_05_01-20_42_56-Conv2D_Double-params_24931-batch_512-optimizer_adam-loss_mse-history_loss.jpg'"
     ]
    },
    {
     "data": {
      "text/plain": "<Figure size 432x288 with 1 Axes>",
      "image/png": "[encoded data removed]"
     },
     "metadata": {
      "needs_background": "light"
     },
     "output_type": "display_data"
    }
   ],
   "source": [
    "def draw_history(key):\n",
    "    filename = f'{model_dir}-history_{key}.jpg'\n",
    "    path = os.path.join(save_models, model_dir, filename)\n",
    "    plt.plot(trainHistory.history[key], color='r', label=key)\n",
    "    plt.plot(trainHistory.history[f'val_{key}'], color='b', label=f'val_{key}')\n",
    "    plt.legend()\n",
    "    print(filename)\n",
    "    plt.savefig(path)\n",
    "    plt.show()\n",
    "\n",
    "draw_history('loss')\n",
    "# draw_history('acc')"
   ],
   "metadata": {
    "collapsed": false,
    "pycharm": {
     "name": "#%%\n"
    }
   }
  },
  {
   "cell_type": "markdown",
   "source": [
    "### 匯出模型"
   ],
   "metadata": {
    "collapsed": false
   }
  },
  {
   "cell_type": "markdown",
   "source": [
    "# 測試模型"
   ],
   "metadata": {
    "collapsed": false
   }
  },
  {
   "cell_type": "code",
   "execution_count": 30,
   "outputs": [
    {
     "data": {
      "text/plain": "(902, 902)"
     },
     "execution_count": 30,
     "metadata": {},
     "output_type": "execute_result"
    }
   ],
   "source": [
    "len(x_test), len(y_test)"
   ],
   "metadata": {
    "collapsed": false,
    "pycharm": {
     "name": "#%%\n"
    }
   }
  },
  {
   "cell_type": "code",
   "execution_count": 29,
   "outputs": [
    {
     "name": "stdout",
     "output_type": "stream",
     "text": [
      "29/29 [==============================] - 0s 4ms/step - loss: 0.0222 - mae: 0.0412 - acc: 0.8503\n"
     ]
    },
    {
     "data": {
      "text/plain": "[0.022187896072864532, 0.041169457137584686, 0.8503326177597046]"
     },
     "execution_count": 29,
     "metadata": {},
     "output_type": "execute_result"
    }
   ],
   "source": [
    "evaluate = model.evaluate(x_test, y_test)\n",
    "evaluate"
   ],
   "metadata": {
    "collapsed": false,
    "pycharm": {
     "name": "#%%\n"
    }
   }
  },
  {
   "cell_type": "code",
   "execution_count": 25,
   "outputs": [
    {
     "name": "stdout",
     "output_type": "stream",
     "text": [
      "runtime = 96.72ms\n"
     ]
    }
   ],
   "source": [
    "start_time = time.time()\n",
    "predicted = model.predict(x_test)\n",
    "print(f'runtime = {(time.time() - start_time) * 1000:.2f}ms')"
   ],
   "metadata": {
    "collapsed": false,
    "pycharm": {
     "name": "#%%\n"
    }
   }
  },
  {
   "cell_type": "code",
   "execution_count": 27,
   "outputs": [
    {
     "name": "stdout",
     "output_type": "stream",
     "text": [
      "runtime = 84.81ms\n",
      "runtime = 77.38ms\n",
      "runtime = 77.38ms\n",
      "runtime = 72.33ms\n",
      "runtime = 81.34ms\n",
      "runtime = 73.41ms\n",
      "runtime = 58.03ms\n",
      "runtime = 70.43ms\n",
      "runtime = 67.46ms\n",
      "runtime = 59.27ms\n"
     ]
    }
   ],
   "source": [
    "for i in range(10):\n",
    "    start_time = time.time()\n",
    "    predicted = model.predict(x_test)\n",
    "    print(f'runtime = {(time.time() - start_time) * 1000:.2f}ms')"
   ],
   "metadata": {
    "collapsed": false,
    "pycharm": {
     "name": "#%%\n"
    }
   }
  },
  {
   "cell_type": "code",
   "execution_count": 28,
   "outputs": [
    {
     "ename": "ValueError",
     "evalue": "The truth value of an array with more than one element is ambiguous. Use a.any() or a.all()",
     "output_type": "error",
     "traceback": [
      "\u001B[1;31m---------------------------------------------------------------------------\u001B[0m",
      "\u001B[1;31mValueError\u001B[0m                                Traceback (most recent call last)",
      "Input \u001B[1;32mIn [28]\u001B[0m, in \u001B[0;36m<cell line: 3>\u001B[1;34m()\u001B[0m\n\u001B[0;32m      3\u001B[0m \u001B[38;5;28;01mfor\u001B[39;00m i, y \u001B[38;5;129;01min\u001B[39;00m \u001B[38;5;28menumerate\u001B[39m(y_test):\n\u001B[0;32m      4\u001B[0m     ans \u001B[38;5;241m=\u001B[39m \u001B[38;5;28mabs\u001B[39m(y \u001B[38;5;241m-\u001B[39m predicted[i][\u001B[38;5;241m0\u001B[39m])\n\u001B[1;32m----> 5\u001B[0m     \u001B[38;5;28;01mif\u001B[39;00m \u001B[43mans\u001B[49m\u001B[43m \u001B[49m\u001B[38;5;241;43m>\u001B[39;49m\u001B[43m \u001B[49m\u001B[38;5;241;43m0.0075\u001B[39;49m:\n\u001B[0;32m      6\u001B[0m         max_loss\u001B[38;5;241m.\u001B[39mappend((i, ans))\n\u001B[0;32m      7\u001B[0m     \u001B[38;5;28msum\u001B[39m \u001B[38;5;241m+\u001B[39m\u001B[38;5;241m=\u001B[39m ans\n",
      "\u001B[1;31mValueError\u001B[0m: The truth value of an array with more than one element is ambiguous. Use a.any() or a.all()"
     ]
    }
   ],
   "source": [
    "max_loss = list()\n",
    "sum = 0\n",
    "for i, y in enumerate(y_test):\n",
    "    ans = abs(y - predicted[i][0])\n",
    "    if ans > 0.0075:\n",
    "        max_loss.append((i, ans))\n",
    "    sum += ans\n",
    "    # print(f'{ans:.2f}, {predicted[i][0]:.2f}, {y}')\n",
    "print(f'acc = {1 - sum / (len(y_test) * 100):.5f}%')\n",
    "print(f'len(Y_test) = {len(y_test)}')\n",
    "print(f'len(max_loss) = {len(max_loss)}')"
   ],
   "metadata": {
    "collapsed": false,
    "pycharm": {
     "name": "#%%\n"
    }
   }
  },
  {
   "cell_type": "code",
   "execution_count": 91,
   "outputs": [],
   "source": [
    "with open(os.path.join(save_models, model_dir, 'READMD.md'), 'a', encoding='utf-8') as file:\n",
    "    file.write('測試結果：\\n')\n",
    "    file.write(f'\\tacc = {1 - sum / (len(Y_test) * 100):.5f}%\\n')"
   ],
   "metadata": {
    "collapsed": false,
    "pycharm": {
     "name": "#%%\n"
    }
   }
  },
  {
   "cell_type": "code",
   "execution_count": 92,
   "outputs": [
    {
     "name": "stdout",
     "output_type": "stream",
     "text": [
      "212, loss = 0.03202640637755394\n"
     ]
    },
    {
     "data": {
      "text/plain": "<Figure size 600x400 with 1 Axes>",
      "image/png": "[encoded data removed]"
     },
     "metadata": {
      "needs_background": "light"
     },
     "output_type": "display_data"
    },
    {
     "name": "stdout",
     "output_type": "stream",
     "text": [
      "4, loss = 0.012913763523101807\n"
     ]
    },
    {
     "data": {
      "text/plain": "<Figure size 600x400 with 1 Axes>",
      "image/png": "[encoded data removed]"
     },
     "metadata": {
      "needs_background": "light"
     },
     "output_type": "display_data"
    },
    {
     "name": "stdout",
     "output_type": "stream",
     "text": [
      "192, loss = 0.009537458419799805\n"
     ]
    },
    {
     "data": {
      "text/plain": "<Figure size 600x400 with 1 Axes>",
      "image/png": "[encoded data removed]"
     },
     "metadata": {
      "needs_background": "light"
     },
     "output_type": "display_data"
    },
    {
     "name": "stdout",
     "output_type": "stream",
     "text": [
      "68, loss = 0.018325231969356537\n"
     ]
    },
    {
     "data": {
      "text/plain": "<Figure size 600x400 with 1 Axes>",
      "image/png": "[encoded data removed]"
     },
     "metadata": {
      "needs_background": "light"
     },
     "output_type": "display_data"
    },
    {
     "name": "stdout",
     "output_type": "stream",
     "text": [
      "78, loss = 0.008963406085968018\n"
     ]
    },
    {
     "data": {
      "text/plain": "<Figure size 600x400 with 1 Axes>",
      "image/png": "[encoded data removed]"
     },
     "metadata": {
      "needs_background": "light"
     },
     "output_type": "display_data"
    }
   ],
   "source": [
    "times = 5\n",
    "\n",
    "def drawTrain(i, num):\n",
    "    plt.figure(dpi=100)\n",
    "    plt.subplot(10 + i + 100 * times)\n",
    "    plt.plot(X_tests[num,:,0], label='mar')\n",
    "    plt.plot(X_tests[num,:,1], label='entropy')\n",
    "    print(f'{num}, loss = {max_loss[num][1]}')\n",
    "    plt.ylim(0, 1)\n",
    "    # plt.legend()\n",
    "    plt.grid(True)\n",
    "    plt.show()\n",
    "\n",
    "def getRnd():\n",
    "    return random.randint(0, len(max_loss) - 1)\n",
    "\n",
    "for i in range(times):\n",
    "    drawTrain(i + 1, getRnd())"
   ],
   "metadata": {
    "collapsed": false,
    "pycharm": {
     "name": "#%%\n"
    }
   }
  }
 ],
 "metadata": {
  "kernelspec": {
   "display_name": "Python 3",
   "language": "python",
   "name": "python3"
  },
  "language_info": {
   "codemirror_mode": {
    "name": "ipython",
    "version": 2
   },
   "file_extension": ".py",
   "mimetype": "text/x-python",
   "name": "python",
   "nbconvert_exporter": "python",
   "pygments_lexer": "ipython2",
   "version": "2.7.6"
  }
 },
 "nbformat": 4,
 "nbformat_minor": 0
}